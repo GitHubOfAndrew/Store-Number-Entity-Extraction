{
 "cells": [
  {
   "cell_type": "code",
   "execution_count": 1,
   "id": "440a7e6b",
   "metadata": {},
   "outputs": [],
   "source": [
    "import spacy\n",
    "import pandas as pd\n",
    "import numpy as np\n",
    "import re\n",
    "import random"
   ]
  },
  {
   "cell_type": "markdown",
   "id": "dc7362ac",
   "metadata": {},
   "source": [
    "## Load Data"
   ]
  },
  {
   "cell_type": "code",
   "execution_count": 2,
   "id": "0ed4258e",
   "metadata": {},
   "outputs": [
    {
     "data": {
      "text/html": [
       "<div>\n",
       "<style scoped>\n",
       "    .dataframe tbody tr th:only-of-type {\n",
       "        vertical-align: middle;\n",
       "    }\n",
       "\n",
       "    .dataframe tbody tr th {\n",
       "        vertical-align: top;\n",
       "    }\n",
       "\n",
       "    .dataframe thead th {\n",
       "        text-align: right;\n",
       "    }\n",
       "</style>\n",
       "<table border=\"1\" class=\"dataframe\">\n",
       "  <thead>\n",
       "    <tr style=\"text-align: right;\">\n",
       "      <th></th>\n",
       "      <th>transaction_descriptor</th>\n",
       "      <th>store_number</th>\n",
       "      <th>dataset</th>\n",
       "    </tr>\n",
       "  </thead>\n",
       "  <tbody>\n",
       "    <tr>\n",
       "      <th>0</th>\n",
       "      <td>DOLRTREE 2257 00022574 ROSWELL</td>\n",
       "      <td>2257</td>\n",
       "      <td>train</td>\n",
       "    </tr>\n",
       "    <tr>\n",
       "      <th>1</th>\n",
       "      <td>AUTOZONE #3547</td>\n",
       "      <td>3547</td>\n",
       "      <td>train</td>\n",
       "    </tr>\n",
       "    <tr>\n",
       "      <th>2</th>\n",
       "      <td>TGI FRIDAYS 1485 0000</td>\n",
       "      <td>1485</td>\n",
       "      <td>train</td>\n",
       "    </tr>\n",
       "    <tr>\n",
       "      <th>3</th>\n",
       "      <td>BUFFALO WILD WINGS 003</td>\n",
       "      <td>3</td>\n",
       "      <td>train</td>\n",
       "    </tr>\n",
       "    <tr>\n",
       "      <th>4</th>\n",
       "      <td>J. CREW #568 0</td>\n",
       "      <td>568</td>\n",
       "      <td>train</td>\n",
       "    </tr>\n",
       "    <tr>\n",
       "      <th>...</th>\n",
       "      <td>...</td>\n",
       "      <td>...</td>\n",
       "      <td>...</td>\n",
       "    </tr>\n",
       "    <tr>\n",
       "      <th>295</th>\n",
       "      <td>MCDONALD'S F2151</td>\n",
       "      <td>F2151</td>\n",
       "      <td>test</td>\n",
       "    </tr>\n",
       "    <tr>\n",
       "      <th>296</th>\n",
       "      <td>NST BEST BUY #1403 332411</td>\n",
       "      <td>1403</td>\n",
       "      <td>test</td>\n",
       "    </tr>\n",
       "    <tr>\n",
       "      <th>297</th>\n",
       "      <td>CVS/PHARMACY #06689</td>\n",
       "      <td>6689</td>\n",
       "      <td>test</td>\n",
       "    </tr>\n",
       "    <tr>\n",
       "      <th>298</th>\n",
       "      <td>BANANA REPUBLIC #8109</td>\n",
       "      <td>8109</td>\n",
       "      <td>test</td>\n",
       "    </tr>\n",
       "    <tr>\n",
       "      <th>299</th>\n",
       "      <td>BOSTON MARKET 0443</td>\n",
       "      <td>443</td>\n",
       "      <td>test</td>\n",
       "    </tr>\n",
       "  </tbody>\n",
       "</table>\n",
       "<p>300 rows × 3 columns</p>\n",
       "</div>"
      ],
      "text/plain": [
       "             transaction_descriptor store_number dataset\n",
       "0    DOLRTREE 2257 00022574 ROSWELL         2257   train\n",
       "1                    AUTOZONE #3547         3547   train\n",
       "2             TGI FRIDAYS 1485 0000         1485   train\n",
       "3            BUFFALO WILD WINGS 003            3   train\n",
       "4                    J. CREW #568 0          568   train\n",
       "..                              ...          ...     ...\n",
       "295                MCDONALD'S F2151        F2151    test\n",
       "296       NST BEST BUY #1403 332411         1403    test\n",
       "297             CVS/PHARMACY #06689         6689    test\n",
       "298           BANANA REPUBLIC #8109         8109    test\n",
       "299              BOSTON MARKET 0443          443    test\n",
       "\n",
       "[300 rows x 3 columns]"
      ]
     },
     "execution_count": 2,
     "metadata": {},
     "output_type": "execute_result"
    }
   ],
   "source": [
    "df = pd.read_csv(r'C:\\Users\\Chang\\Desktop\\Work Things\\Internships\\Affinity Solutions\\Summer Internship - Homework Exercise.csv')\n",
    "\n",
    "df"
   ]
  },
  {
   "cell_type": "markdown",
   "id": "24b4479d",
   "metadata": {},
   "source": [
    "## Clean Data"
   ]
  },
  {
   "cell_type": "code",
   "execution_count": 3,
   "id": "3af717cf",
   "metadata": {},
   "outputs": [],
   "source": [
    "# clean awkward spaces\n",
    "def clean_spaces(s):\n",
    "    return re.sub(' +', ' ', s)\n",
    "\n",
    "# split on punctuations because the vectorizer will not understand any number with it\n",
    "def split_punc(s):\n",
    "    return re.sub(r'([^\\w\\s]|_)',' ',s)\n",
    "\n",
    "# take out any numbers with zeros leading and trailing it\n",
    "def split_leading_zeros(s):\n",
    "    return re.sub(r'\\b0+', '', s)"
   ]
  },
  {
   "cell_type": "code",
   "execution_count": 4,
   "id": "d1edacbd",
   "metadata": {},
   "outputs": [],
   "source": [
    "# split numbers from words\n",
    "\n",
    "def split_num_from_word(s):\n",
    "    li_split = s.split(' ')\n",
    "    li_where_to_split = []\n",
    "    start_, end_ = 0, 0\n",
    "    for ind, item in enumerate(li_split):\n",
    "        # filter out for words with both letters and numbers\n",
    "        if not item.isalpha() and item.isalnum():\n",
    "            split_num_word = re.split('(\\d+)', item)\n",
    "            if len(split_num_word[-1]) > 2 or len(split_num_word[0]) > 2:\n",
    "                start_, end_ = (s.index(split_num_word[1])), s.index(split_num_word[1]) + len(split_num_word[1])\n",
    "\n",
    "    return s[:start_] + ' ' + s[start_:end_] + ' ' + s[end_:]"
   ]
  },
  {
   "cell_type": "code",
   "execution_count": 5,
   "id": "76c5b79c",
   "metadata": {},
   "outputs": [
    {
     "data": {
      "text/html": [
       "<div>\n",
       "<style scoped>\n",
       "    .dataframe tbody tr th:only-of-type {\n",
       "        vertical-align: middle;\n",
       "    }\n",
       "\n",
       "    .dataframe tbody tr th {\n",
       "        vertical-align: top;\n",
       "    }\n",
       "\n",
       "    .dataframe thead th {\n",
       "        text-align: right;\n",
       "    }\n",
       "</style>\n",
       "<table border=\"1\" class=\"dataframe\">\n",
       "  <thead>\n",
       "    <tr style=\"text-align: right;\">\n",
       "      <th></th>\n",
       "      <th>transaction_descriptor</th>\n",
       "      <th>store_number</th>\n",
       "      <th>dataset</th>\n",
       "    </tr>\n",
       "  </thead>\n",
       "  <tbody>\n",
       "    <tr>\n",
       "      <th>0</th>\n",
       "      <td>DOLRTREE 2257 22574 ROSWELL</td>\n",
       "      <td>2257</td>\n",
       "      <td>train</td>\n",
       "    </tr>\n",
       "    <tr>\n",
       "      <th>1</th>\n",
       "      <td>AUTOZONE 3547</td>\n",
       "      <td>3547</td>\n",
       "      <td>train</td>\n",
       "    </tr>\n",
       "    <tr>\n",
       "      <th>2</th>\n",
       "      <td>TGI FRIDAYS 1485</td>\n",
       "      <td>1485</td>\n",
       "      <td>train</td>\n",
       "    </tr>\n",
       "    <tr>\n",
       "      <th>3</th>\n",
       "      <td>BUFFALO WILD WINGS 3</td>\n",
       "      <td>3</td>\n",
       "      <td>train</td>\n",
       "    </tr>\n",
       "    <tr>\n",
       "      <th>4</th>\n",
       "      <td>J CREW 568</td>\n",
       "      <td>568</td>\n",
       "      <td>train</td>\n",
       "    </tr>\n",
       "    <tr>\n",
       "      <th>...</th>\n",
       "      <td>...</td>\n",
       "      <td>...</td>\n",
       "      <td>...</td>\n",
       "    </tr>\n",
       "    <tr>\n",
       "      <th>295</th>\n",
       "      <td>MCDONALD S F2151</td>\n",
       "      <td>F2151</td>\n",
       "      <td>test</td>\n",
       "    </tr>\n",
       "    <tr>\n",
       "      <th>296</th>\n",
       "      <td>NST BEST BUY 1403 332411</td>\n",
       "      <td>1403</td>\n",
       "      <td>test</td>\n",
       "    </tr>\n",
       "    <tr>\n",
       "      <th>297</th>\n",
       "      <td>CVS PHARMACY 6689</td>\n",
       "      <td>6689</td>\n",
       "      <td>test</td>\n",
       "    </tr>\n",
       "    <tr>\n",
       "      <th>298</th>\n",
       "      <td>BANANA REPUBLIC 8109</td>\n",
       "      <td>8109</td>\n",
       "      <td>test</td>\n",
       "    </tr>\n",
       "    <tr>\n",
       "      <th>299</th>\n",
       "      <td>BOSTON MARKET 443</td>\n",
       "      <td>443</td>\n",
       "      <td>test</td>\n",
       "    </tr>\n",
       "  </tbody>\n",
       "</table>\n",
       "<p>300 rows × 3 columns</p>\n",
       "</div>"
      ],
      "text/plain": [
       "           transaction_descriptor store_number dataset\n",
       "0     DOLRTREE 2257 22574 ROSWELL         2257   train\n",
       "1                   AUTOZONE 3547         3547   train\n",
       "2               TGI FRIDAYS 1485          1485   train\n",
       "3            BUFFALO WILD WINGS 3            3   train\n",
       "4                     J CREW 568           568   train\n",
       "..                            ...          ...     ...\n",
       "295              MCDONALD S F2151        F2151    test\n",
       "296      NST BEST BUY 1403 332411         1403    test\n",
       "297             CVS PHARMACY 6689         6689    test\n",
       "298          BANANA REPUBLIC 8109         8109    test\n",
       "299             BOSTON MARKET 443          443    test\n",
       "\n",
       "[300 rows x 3 columns]"
      ]
     },
     "execution_count": 5,
     "metadata": {},
     "output_type": "execute_result"
    }
   ],
   "source": [
    "transaction_descriptor = df['transaction_descriptor']\n",
    "\n",
    "df['transaction_descriptor'] = list(map(clean_spaces, map(split_leading_zeros, map(split_num_from_word, map(split_punc, transaction_descriptor)))))\n",
    "\n",
    "df"
   ]
  },
  {
   "cell_type": "markdown",
   "id": "d66370ee",
   "metadata": {},
   "source": [
    "## Load a Spacy Model\n",
    "\n",
    "We will load a model from spacy. To check what is has, let us see:"
   ]
  },
  {
   "cell_type": "code",
   "execution_count": 6,
   "id": "0983ea2b",
   "metadata": {},
   "outputs": [],
   "source": [
    "nlp = spacy.load('en_core_web_sm')"
   ]
  },
  {
   "cell_type": "markdown",
   "id": "acc5fff1",
   "metadata": {},
   "source": [
    "Play with the model"
   ]
  },
  {
   "cell_type": "code",
   "execution_count": 7,
   "id": "7fb2d46a",
   "metadata": {},
   "outputs": [
    {
     "data": {
      "text/plain": [
       "[('3', 'CARDINAL'),\n",
       " ('CREW', 'ORG'),\n",
       " ('40', 'CARDINAL'),\n",
       " ('GREENVILLE SC', 'ORG'),\n",
       " ('FIVE', 'CARDINAL'),\n",
       " ('1847', 'DATE'),\n",
       " ('612 339 9733', 'MONEY'),\n",
       " ('MN', 'ORG'),\n",
       " ('2650', 'DATE'),\n",
       " ('HOUSE', 'ORG'),\n",
       " ('535', 'PRODUCT'),\n",
       " ('1305', 'DATE'),\n",
       " ('26824', 'DATE'),\n",
       " ('688', 'CARDINAL'),\n",
       " ('207812', 'CARDINAL'),\n",
       " ('EXPRESS', 'ORG'),\n",
       " ('920', 'CARDINAL'),\n",
       " ('F16829', 'DATE'),\n",
       " ('208998', 'DATE'),\n",
       " ('Q61', 'ORG'),\n",
       " ('2610', 'DATE'),\n",
       " ('354', 'CARDINAL'),\n",
       " ('483280353', 'DATE'),\n",
       " ('ROSS STORES', 'ORG'),\n",
       " ('10262660', 'DATE'),\n",
       " ('447', 'CARDINAL'),\n",
       " ('196', 'CARDINAL'),\n",
       " ('6870', 'CARDINAL'),\n",
       " ('22357', 'DATE'),\n",
       " ('748361300', 'DATE'),\n",
       " ('MCDONALD S F3172', 'ORG'),\n",
       " ('THE HOME DEPOT 1407', 'WORK_OF_ART'),\n",
       " ('1548', 'DATE'),\n",
       " ('NNT LANE BRYANT', 'WORK_OF_ART'),\n",
       " ('142', 'CARDINAL'),\n",
       " ('ROSS STORES', 'ORG'),\n",
       " ('11572299', 'DATE'),\n",
       " ('1327', 'DATE'),\n",
       " ('27 2732', 'DATE'),\n",
       " ('303', 'CARDINAL'),\n",
       " ('ROYAL', 'ORG'),\n",
       " ('24', 'CARDINAL'),\n",
       " ('180073', 'DATE'),\n",
       " ('1783', 'DATE'),\n",
       " ('532412', 'DATE'),\n",
       " ('WAL MART', 'ORG'),\n",
       " ('1316', 'DATE'),\n",
       " ('ROSS STORES', 'ORG'),\n",
       " ('11002986', 'DATE'),\n",
       " ('CNS', 'ORG'),\n",
       " ('98', 'CARDINAL'),\n",
       " ('1774 532399', 'DATE'),\n",
       " ('10630845', 'DATE'),\n",
       " ('42', 'DATE'),\n",
       " ('437', 'CARDINAL'),\n",
       " ('NNT', 'ORG'),\n",
       " ('572264', 'DATE'),\n",
       " ('NNT', 'ORG'),\n",
       " ('171793', 'DATE'),\n",
       " ('4', 'CARDINAL'),\n",
       " ('ECO', 'ORG'),\n",
       " ('1858', 'DATE'),\n",
       " ('MCDONALD S F26490', 'ORG'),\n",
       " ('974', 'CARDINAL'),\n",
       " ('NNT', 'ORG'),\n",
       " ('881706', 'DATE'),\n",
       " ('ROSS STORES', 'ORG'),\n",
       " ('14560807', 'DATE'),\n",
       " ('739723', 'DATE'),\n",
       " ('113', 'CARDINAL'),\n",
       " ('ROSS STORES', 'ORG'),\n",
       " ('14782798', 'DATE'),\n",
       " ('FORT MOJAVE', 'FAC'),\n",
       " ('AZ', 'ORG'),\n",
       " ('9386', 'DATE'),\n",
       " ('ROSS STORES', 'ORG'),\n",
       " ('12862950', 'DATE'),\n",
       " ('500 970304', 'CARDINAL'),\n",
       " ('MCDONALD S', 'ORG'),\n",
       " ('35869', 'CARDINAL'),\n",
       " ('MCDONALD S', 'ORG'),\n",
       " ('NNT', 'ORG'),\n",
       " ('470811', 'DATE'),\n",
       " ('9502', 'DATE'),\n",
       " ('THE HOME DEPOT 6828', 'WORK_OF_ART'),\n",
       " ('RUE', 'ORG'),\n",
       " ('21 1129', 'DATE'),\n",
       " ('4853', 'DATE'),\n",
       " ('833', 'CARDINAL'),\n",
       " ('NNT', 'ORG'),\n",
       " ('F565 CLARKSVILLE', 'PRODUCT'),\n",
       " ('13822', 'DATE'),\n",
       " ('2050', 'DATE'),\n",
       " ('729724', 'DATE'),\n",
       " ('662', 'CARDINAL'),\n",
       " ('453', 'CARDINAL'),\n",
       " ('235 860244', 'CARDINAL'),\n",
       " ('4215', 'DATE'),\n",
       " ('ROSS STORES', 'ORG'),\n",
       " ('13360692', 'DATE'),\n",
       " ('304', 'CARDINAL'),\n",
       " ('561499', 'DATE'),\n",
       " ('380 830230', 'CARDINAL'),\n",
       " ('46', 'CARDINAL'),\n",
       " ('581936', 'DATE'),\n",
       " ('PIER 1 IMPORTS 8060', 'PERSON'),\n",
       " ('7679', 'DATE'),\n",
       " ('15474', 'DATE'),\n",
       " ('179', 'CARDINAL'),\n",
       " ('387 181855', 'CARDINAL'),\n",
       " ('1970', 'DATE'),\n",
       " ('1970', 'DATE'),\n",
       " ('256', 'CARDINAL'),\n",
       " ('295', 'CARDINAL'),\n",
       " ('514', 'CARDINAL'),\n",
       " ('MURPHY', 'ORG'),\n",
       " ('ATWALMART LITHIA SPRINGGA', 'ORG'),\n",
       " ('NNT', 'ORG'),\n",
       " ('830366', 'DATE'),\n",
       " ('291', 'CARDINAL'),\n",
       " ('FORT COLLINS', 'ORG'),\n",
       " ('NNT', 'ORG'),\n",
       " ('72473', 'DATE'),\n",
       " ('233', 'CARDINAL'),\n",
       " ('MCDONALD S', 'ORG'),\n",
       " ('723832', 'DATE'),\n",
       " ('NNT', 'ORG'),\n",
       " ('460391', 'DATE'),\n",
       " ('13', 'CARDINAL'),\n",
       " ('284', 'CARDINAL'),\n",
       " ('5243', 'DATE'),\n",
       " ('619', 'CARDINAL'),\n",
       " ('PHIPP', 'ORG'),\n",
       " ('415', 'CARDINAL'),\n",
       " ('47 571045', 'CARDINAL'),\n",
       " ('780350500', 'CARDINAL'),\n",
       " ('QPS', 'ORG'),\n",
       " ('523', 'CARDINAL'),\n",
       " ('KUM', 'ORG'),\n",
       " ('927', 'CARDINAL'),\n",
       " ('445', 'CARDINAL'),\n",
       " ('1', 'CARDINAL'),\n",
       " ('167', 'CARDINAL'),\n",
       " ('L765004 66850041', 'DATE'),\n",
       " ('11789', 'DATE'),\n",
       " ('4204', 'CARDINAL'),\n",
       " ('14639', 'DATE'),\n",
       " ('687', 'CARDINAL'),\n",
       " ('206', 'CARDINAL'),\n",
       " ('1167', 'DATE'),\n",
       " ('CORONA', 'ORG'),\n",
       " ('3162', 'DATE'),\n",
       " ('2989', 'DATE'),\n",
       " ('346432', 'CARDINAL'),\n",
       " ('13625903', 'DATE'),\n",
       " ('1', 'CARDINAL'),\n",
       " ('ROSS STORES', 'ORG'),\n",
       " ('1049', 'DATE'),\n",
       " ('1901', 'DATE'),\n",
       " ('29071', 'DATE'),\n",
       " ('NAVY', 'ORG'),\n",
       " ('6470', 'DATE'),\n",
       " ('43 3737', 'DATE'),\n",
       " ('46', 'CARDINAL'),\n",
       " ('730', 'CARDINAL'),\n",
       " ('131953', 'DATE'),\n",
       " ('THE HOME DEPOT 1085', 'WORK_OF_ART'),\n",
       " ('1563', 'DATE'),\n",
       " ('29 871122', 'CARDINAL'),\n",
       " ('WAL MART', 'ORG'),\n",
       " ('21103', 'DATE'),\n",
       " ('ROSS STORES', 'ORG'),\n",
       " ('17131522', 'DATE'),\n",
       " ('440', 'CARDINAL'),\n",
       " ('130975', 'DATE'),\n",
       " ('WAL MART', 'ORG'),\n",
       " ('976', 'CARDINAL'),\n",
       " ('WINNSBORO', 'ORG'),\n",
       " ('LA', 'GPE'),\n",
       " ('5998869CK', 'CARDINAL'),\n",
       " ('ROSS STORES', 'ORG'),\n",
       " ('15', 'CARDINAL'),\n",
       " ('346', 'CARDINAL'),\n",
       " ('4343', 'DATE'),\n",
       " ('OL', 'ORG'),\n",
       " ('THE HOME DEPOT 8550', 'WORK_OF_ART'),\n",
       " ('315', 'CARDINAL'),\n",
       " ('242', 'CARDINAL'),\n",
       " ('9442088', 'DATE'),\n",
       " ('1419', 'DATE'),\n",
       " ('ROSS STORES', 'ORG'),\n",
       " ('1019', 'DATE'),\n",
       " ('629', 'CARDINAL'),\n",
       " ('HOUSE', 'ORG'),\n",
       " ('4249', 'CARDINAL'),\n",
       " ('BUR', 'ORG'),\n",
       " ('2505', 'DATE'),\n",
       " ('825', 'CARDINAL'),\n",
       " ('58', 'CARDINAL'),\n",
       " ('2039', 'DATE'),\n",
       " ('12260', 'DATE'),\n",
       " ('AEROPOSTALE', 'ORG'),\n",
       " ('864', 'CARDINAL'),\n",
       " ('338', 'PRODUCT'),\n",
       " ('11', 'CARDINAL'),\n",
       " ('4393', 'DATE'),\n",
       " ('62', 'CARDINAL'),\n",
       " ('US', 'GPE'),\n",
       " ('30', 'CARDINAL'),\n",
       " ('NNT', 'ORG'),\n",
       " ('130571', 'DATE'),\n",
       " ('14178', 'DATE'),\n",
       " ('CNS', 'ORG'),\n",
       " ('282163', 'DATE'),\n",
       " ('14', 'CARDINAL'),\n",
       " ('1033', 'DATE'),\n",
       " ('17871401', 'DATE'),\n",
       " ('3192', 'CARDINAL'),\n",
       " ('50161', 'CARDINAL'),\n",
       " ('401', 'CARDINAL'),\n",
       " ('1253', 'DATE'),\n",
       " ('762589', 'DATE'),\n",
       " ('472831773', 'DATE'),\n",
       " ('277', 'CARDINAL'),\n",
       " ('661145', 'DATE'),\n",
       " ('59', 'CARDINAL'),\n",
       " ('60251', 'DATE'),\n",
       " ('48 72393', 'DATE'),\n",
       " ('231', 'CARDINAL'),\n",
       " ('160037', 'DATE'),\n",
       " ('11332', 'DATE'),\n",
       " ('ROSS STORES', 'ORG'),\n",
       " ('16482149', 'DATE'),\n",
       " ('F671', 'PRODUCT'),\n",
       " ('11820', 'CARDINAL'),\n",
       " ('6619', 'DATE'),\n",
       " ('6102', 'DATE'),\n",
       " ('MCDONALD S F2383', 'ORG'),\n",
       " ('TX', 'ORG'),\n",
       " ('TACO BELL', 'ORG'),\n",
       " ('733780', 'DATE'),\n",
       " ('ROSS STORES', 'ORG'),\n",
       " ('62132001', 'DATE'),\n",
       " ('15392', 'DATE'),\n",
       " ('860977', 'DATE'),\n",
       " ('F122', 'PRODUCT'),\n",
       " ('982', 'CARDINAL'),\n",
       " ('871025', 'DATE'),\n",
       " ('15843', 'DATE'),\n",
       " ('NNT', 'ORG'),\n",
       " ('1261', 'DATE'),\n",
       " ('EXPRESS', 'ORG'),\n",
       " ('813', 'CARDINAL'),\n",
       " ('80590', 'DATE'),\n",
       " ('WAL MART', 'ORG'),\n",
       " ('647', 'PRODUCT'),\n",
       " ('14788', 'DATE'),\n",
       " ('57331', 'DATE'),\n",
       " ('2340', 'DATE'),\n",
       " ('408', 'CARDINAL'),\n",
       " ('10101', 'DATE'),\n",
       " ('562536', 'DATE'),\n",
       " ('601128', 'DATE'),\n",
       " ('WAL MART', 'ORG'),\n",
       " ('1997', 'DATE'),\n",
       " ('ROSS STORES', 'ORG'),\n",
       " ('21000236', 'CARDINAL'),\n",
       " ('NNT', 'ORG'),\n",
       " ('730376', 'DATE'),\n",
       " ('170928', 'DATE'),\n",
       " ('MIAMI', 'ORG'),\n",
       " ('104235700', 'CARDINAL'),\n",
       " ('QPS', 'ORG'),\n",
       " ('FAMOUSFOOTWEAR 132427', 'DATE'),\n",
       " ('11966', 'DATE'),\n",
       " ('948', 'CARDINAL'),\n",
       " ('51', 'CARDINAL'),\n",
       " ('OLO', 'ORG'),\n",
       " ('1003300', 'CARDINAL'),\n",
       " ('BUCKLE', 'ORG'),\n",
       " ('513', 'CARDINAL'),\n",
       " ('1403 332411', 'DATE'),\n",
       " ('8109', 'DATE'),\n",
       " ('443', 'CARDINAL')]"
      ]
     },
     "execution_count": 7,
     "metadata": {},
     "output_type": "execute_result"
    }
   ],
   "source": [
    "li_init_predictions = []\n",
    "for descriptor in df['transaction_descriptor']:\n",
    "    doc = nlp(descriptor)\n",
    "    for ent in doc.ents:\n",
    "        li_init_predictions.append((ent.text, ent.label_))\n",
    "        \n",
    "li_init_predictions"
   ]
  },
  {
   "cell_type": "code",
   "execution_count": 8,
   "id": "f1db73cd",
   "metadata": {},
   "outputs": [
    {
     "data": {
      "text/plain": [
       "['tok2vec', 'tagger', 'parser', 'attribute_ruler', 'lemmatizer', 'ner']"
      ]
     },
     "execution_count": 8,
     "metadata": {},
     "output_type": "execute_result"
    }
   ],
   "source": [
    "# get components of the pipeline\n",
    "\n",
    "nlp.pipe_names"
   ]
  },
  {
   "cell_type": "code",
   "execution_count": 9,
   "id": "f6f3d6b6",
   "metadata": {},
   "outputs": [],
   "source": [
    "# pick just the ner\n",
    "\n",
    "ner = nlp.get_pipe('ner')"
   ]
  },
  {
   "cell_type": "code",
   "execution_count": 10,
   "id": "9c02baaa",
   "metadata": {},
   "outputs": [],
   "source": [
    "# example on an entry that we could possible have\n",
    "\n",
    "ex1 = 'TOYS R US 5009'\n",
    "\n",
    "doc = nlp(ex1)"
   ]
  },
  {
   "cell_type": "code",
   "execution_count": 11,
   "id": "f2dd448a",
   "metadata": {},
   "outputs": [
    {
     "name": "stdout",
     "output_type": "stream",
     "text": [
      "US GPE\n",
      "5009 DATE\n"
     ]
    }
   ],
   "source": [
    "for entity in doc.ents:\n",
    "    print(entity, entity.label_)"
   ]
  },
  {
   "cell_type": "markdown",
   "id": "31a16ee6",
   "metadata": {},
   "source": [
    "So we see that our nlp pipeline from spacy requires a lot of training for our specific examples. It does not have the exact domain-specific knowledge that we need it to have for our task (in particular, it does not have the ability to discern between stores and numbers).\n",
    "\n",
    "## Train Our Model\n",
    "\n",
    "We will feed our training set into the model.\n",
    "\n",
    "Training data must be presented to spacy nlp models in the form:\n",
    "\n",
    "[(Text to train on, {'entities': (start index, stop index, 'desired label')]"
   ]
  },
  {
   "cell_type": "markdown",
   "id": "4f61469d",
   "metadata": {},
   "source": [
    "### Get our training data in the proper format"
   ]
  },
  {
   "cell_type": "code",
   "execution_count": 12,
   "id": "fe83512a",
   "metadata": {},
   "outputs": [],
   "source": [
    "from spacy.tokens import DocBin\n",
    "from tqdm import tqdm"
   ]
  },
  {
   "cell_type": "code",
   "execution_count": 13,
   "id": "75fce7c0",
   "metadata": {},
   "outputs": [],
   "source": [
    "def load_spacy_data(train_df, dataset):\n",
    "    # load data\n",
    "    train_df = df.loc[df['dataset'] == dataset]\n",
    "\n",
    "    # get into form we need to train spacy model\n",
    "    li_data = []\n",
    "    for store_num, descriptor in zip(train_df['store_number'], train_df['transaction_descriptor']):\n",
    "        start_pos = descriptor.index(store_num)\n",
    "        end_pos = start_pos + len(store_num)\n",
    "        li_data.append((descriptor, {'entities':[(start_pos, end_pos, 'store_num')]}))\n",
    "\n",
    "    return li_data"
   ]
  },
  {
   "cell_type": "code",
   "execution_count": 14,
   "id": "94a9c863",
   "metadata": {},
   "outputs": [],
   "source": [
    "train_data = load_spacy_data(df.loc[df['dataset'] == 'train'], 'train')"
   ]
  },
  {
   "cell_type": "markdown",
   "id": "76fb6594",
   "metadata": {},
   "source": [
    "### Get our validation data in proper format too"
   ]
  },
  {
   "cell_type": "code",
   "execution_count": 15,
   "id": "84b9881e",
   "metadata": {},
   "outputs": [],
   "source": [
    "val_data = load_spacy_data(df.loc[df['dataset'] == 'validation'], 'validation')"
   ]
  },
  {
   "cell_type": "code",
   "execution_count": 16,
   "id": "eb633280",
   "metadata": {},
   "outputs": [
    {
     "name": "stdout",
     "output_type": "stream",
     "text": [
      "We have 100 training entries.\n",
      "We have 100 validation entries.\n"
     ]
    }
   ],
   "source": [
    "print(f'We have {len(train_data)} training entries.')\n",
    "\n",
    "print(f'We have {len(val_data)} validation entries.')"
   ]
  },
  {
   "cell_type": "markdown",
   "id": "e099d234",
   "metadata": {},
   "source": [
    "### Load a Blank Model\n",
    "\n",
    "We will first train a blank model! (the one we loaded earlier was a pretrained model)"
   ]
  },
  {
   "cell_type": "code",
   "execution_count": 17,
   "id": "2cabf651",
   "metadata": {},
   "outputs": [],
   "source": [
    "nlp = spacy.blank('en')"
   ]
  },
  {
   "cell_type": "code",
   "execution_count": 18,
   "id": "a840da24",
   "metadata": {},
   "outputs": [],
   "source": [
    "def load_dot_spacy(data, dataset, nlp):\n",
    "    db = DocBin() # create a DocBin object\n",
    "    for text, annot in tqdm(data): # data in previous format\n",
    "        doc = nlp.make_doc(text) # create doc object from text\n",
    "        ents = []\n",
    "        for start, end, label in annot['entities']: # add character indexes\n",
    "            span = doc.char_span(start, end, label=label, alignment_mode='contract')\n",
    "            if span is None:\n",
    "                print('Skipping entity')\n",
    "            else:\n",
    "                ents.append(span)\n",
    "        try:\n",
    "            doc.ents = ents # label the text with the ents\n",
    "            db.add(doc)\n",
    "        except:\n",
    "            print(text, annot)\n",
    "    db.to_disk('./' + dataset + '.spacy') # save the docbin object"
   ]
  },
  {
   "cell_type": "code",
   "execution_count": 19,
   "id": "69ee1d0b",
   "metadata": {},
   "outputs": [],
   "source": [
    "# will store files named \"train.spacy\" and \"dev.spacy\" in our directory with this notebook, we will feed this into\n",
    "# our config file\n",
    "\n",
    "load_dot_spacy(train_data, 'train', nlp)\n",
    "\n",
    "load_dot_spacy(val_data, 'dev', nlp)"
   ]
  },
  {
   "cell_type": "markdown",
   "id": "d349dea8",
   "metadata": {},
   "source": [
    "### Get the Config File\n",
    "\n",
    "For spacy 3.x, we must call our training protocol in a config file. We will run the spacy training loop from the command prompt instead of directly from python.\n",
    "\n",
    "See documentation: https://spacy.io/usage/training\n",
    "\n",
    "### Instructions to get the config file + autofill the config file\n",
    "\n",
    "- Activate virtual environment of the project (must have spaCy installed)\n",
    "\n",
    "- Type in \"python -m spacy init fill-config base_config.cfg config.cfg\" to the command prompt\n",
    "\n",
    "- Run it\n",
    "\n",
    "We will obtain a config file, named \"config.cfg\".\n",
    "\n",
    "### Instructions to run the training loop\n",
    "\n",
    "Go into the command prompt, and type in:\n",
    "\n",
    "\"python -m spacy train config.cfg --output ./output --paths.train ./train.spacy --paths.dev ./dev.spacy\"\n",
    "\n",
    "Then run it. It will train, and as it trains, it will display the metrics.\n",
    "\n",
    "## Evaluate the Performance of Our Model\n",
    "\n",
    "We will now evaluate the performance of our model on our testing data.\n",
    "\n",
    "First load the model that we trained:"
   ]
  },
  {
   "cell_type": "code",
   "execution_count": 20,
   "id": "21ce2857",
   "metadata": {},
   "outputs": [],
   "source": [
    "nlp_best = spacy.load('./output/model-best')"
   ]
  },
  {
   "cell_type": "markdown",
   "id": "9aeea152",
   "metadata": {},
   "source": [
    "Now load the testing data in the format as above."
   ]
  },
  {
   "cell_type": "code",
   "execution_count": 21,
   "id": "45ed37fd",
   "metadata": {},
   "outputs": [
    {
     "data": {
      "text/html": [
       "<div>\n",
       "<style scoped>\n",
       "    .dataframe tbody tr th:only-of-type {\n",
       "        vertical-align: middle;\n",
       "    }\n",
       "\n",
       "    .dataframe tbody tr th {\n",
       "        vertical-align: top;\n",
       "    }\n",
       "\n",
       "    .dataframe thead th {\n",
       "        text-align: right;\n",
       "    }\n",
       "</style>\n",
       "<table border=\"1\" class=\"dataframe\">\n",
       "  <thead>\n",
       "    <tr style=\"text-align: right;\">\n",
       "      <th></th>\n",
       "      <th>transaction_descriptor</th>\n",
       "      <th>store_number</th>\n",
       "      <th>dataset</th>\n",
       "    </tr>\n",
       "  </thead>\n",
       "  <tbody>\n",
       "    <tr>\n",
       "      <th>200</th>\n",
       "      <td>IN N OUT BURGER 242</td>\n",
       "      <td>242</td>\n",
       "      <td>test</td>\n",
       "    </tr>\n",
       "    <tr>\n",
       "      <th>201</th>\n",
       "      <td>BP 9442088 LIBERTYVILLE B</td>\n",
       "      <td>9442088</td>\n",
       "      <td>test</td>\n",
       "    </tr>\n",
       "    <tr>\n",
       "      <th>202</th>\n",
       "      <td>JCPENNEY 1419</td>\n",
       "      <td>1419</td>\n",
       "      <td>test</td>\n",
       "    </tr>\n",
       "    <tr>\n",
       "      <th>203</th>\n",
       "      <td>ROSS STORES 1019</td>\n",
       "      <td>1019</td>\n",
       "      <td>test</td>\n",
       "    </tr>\n",
       "    <tr>\n",
       "      <th>204</th>\n",
       "      <td>WM SUPERCENTER 38</td>\n",
       "      <td>38</td>\n",
       "      <td>test</td>\n",
       "    </tr>\n",
       "    <tr>\n",
       "      <th>...</th>\n",
       "      <td>...</td>\n",
       "      <td>...</td>\n",
       "      <td>...</td>\n",
       "    </tr>\n",
       "    <tr>\n",
       "      <th>295</th>\n",
       "      <td>MCDONALD S F2151</td>\n",
       "      <td>F2151</td>\n",
       "      <td>test</td>\n",
       "    </tr>\n",
       "    <tr>\n",
       "      <th>296</th>\n",
       "      <td>NST BEST BUY 1403 332411</td>\n",
       "      <td>1403</td>\n",
       "      <td>test</td>\n",
       "    </tr>\n",
       "    <tr>\n",
       "      <th>297</th>\n",
       "      <td>CVS PHARMACY 6689</td>\n",
       "      <td>6689</td>\n",
       "      <td>test</td>\n",
       "    </tr>\n",
       "    <tr>\n",
       "      <th>298</th>\n",
       "      <td>BANANA REPUBLIC 8109</td>\n",
       "      <td>8109</td>\n",
       "      <td>test</td>\n",
       "    </tr>\n",
       "    <tr>\n",
       "      <th>299</th>\n",
       "      <td>BOSTON MARKET 443</td>\n",
       "      <td>443</td>\n",
       "      <td>test</td>\n",
       "    </tr>\n",
       "  </tbody>\n",
       "</table>\n",
       "<p>100 rows × 3 columns</p>\n",
       "</div>"
      ],
      "text/plain": [
       "        transaction_descriptor store_number dataset\n",
       "200        IN N OUT BURGER 242          242    test\n",
       "201  BP 9442088 LIBERTYVILLE B      9442088    test\n",
       "202              JCPENNEY 1419         1419    test\n",
       "203           ROSS STORES 1019         1019    test\n",
       "204          WM SUPERCENTER 38           38    test\n",
       "..                         ...          ...     ...\n",
       "295           MCDONALD S F2151        F2151    test\n",
       "296   NST BEST BUY 1403 332411         1403    test\n",
       "297          CVS PHARMACY 6689         6689    test\n",
       "298       BANANA REPUBLIC 8109         8109    test\n",
       "299          BOSTON MARKET 443          443    test\n",
       "\n",
       "[100 rows x 3 columns]"
      ]
     },
     "execution_count": 21,
     "metadata": {},
     "output_type": "execute_result"
    }
   ],
   "source": [
    "df.loc[df['dataset'] == 'test']"
   ]
  },
  {
   "cell_type": "code",
   "execution_count": 22,
   "id": "0c62604b",
   "metadata": {},
   "outputs": [
    {
     "data": {
      "text/plain": [
       "[(' IN N OUT BURGER 242', {'entities': [(17, 20, 'store_num')]}),\n",
       " ('BP 9442088 LIBERTYVILLE B', {'entities': [(3, 10, 'store_num')]}),\n",
       " (' JCPENNEY 1419', {'entities': [(10, 14, 'store_num')]}),\n",
       " (' ROSS STORES 1019', {'entities': [(13, 17, 'store_num')]}),\n",
       " (' WM SUPERCENTER 38', {'entities': [(16, 18, 'store_num')]}),\n",
       " (' TUESDAY MORNING 673 6', {'entities': [(17, 20, 'store_num')]}),\n",
       " (' IHOP 629 WHITE HOUSE TN', {'entities': [(6, 9, 'store_num')]}),\n",
       " (' LBOUTLETS 4249 1475 N BUR', {'entities': [(11, 15, 'store_num')]}),\n",
       " (' WINN DIXIE 2505 VALRICO FL 3454 ', {'entities': [(12, 16, 'store_num')]}),\n",
       " (' BURLINGTON STORES 825', {'entities': [(19, 22, 'store_num')]}),\n",
       " (' WM SUPERCENTER 2923', {'entities': [(16, 20, 'store_num')]}),\n",
       " (' BUFFALO WILD WINGS 58 CARSON CITY NV',\n",
       "  {'entities': [(20, 22, 'store_num')]}),\n",
       " (' BOB EVANS REST 2039', {'entities': [(16, 20, 'store_num')]}),\n",
       " (' JIMMY JOHNS 382 E', {'entities': [(13, 16, 'store_num')]}),\n",
       " (' PENSKE TRK LSG 12260', {'entities': [(16, 21, 'store_num')]}),\n",
       " (' AEROPOSTALE 864', {'entities': [(13, 16, 'store_num')]}),\n",
       " (' GIANT 338', {'entities': [(7, 10, 'store_num')]}),\n",
       " (' DOLLAR GENERAL DG 11', {'entities': [(19, 21, 'store_num')]}),\n",
       " (' NNT ITS FASHION 70360265', {'entities': [(17, 25, 'store_num')]}),\n",
       " (' BIG LOTS STORES 4393 ', {'entities': [(17, 21, 'store_num')]}),\n",
       " (' AT T SPRING MOBILE 62', {'entities': [(20, 22, 'store_num')]}),\n",
       " (' OLD NAVY US 7212', {'entities': [(13, 17, 'store_num')]}),\n",
       " (' BP 8644346ES 30 B96', {'entities': [(4, 11, 'store_num')]}),\n",
       " ('NNT POLO RL WRENTHA 130571 ', {'entities': [(20, 25, 'store_num')]}),\n",
       " (' CHAMPS 14178', {'entities': [(8, 13, 'store_num')]}),\n",
       " (' CNS GUESS 3220 282163', {'entities': [(11, 15, 'store_num')]}),\n",
       " (' HOMEGOODS 407', {'entities': [(11, 14, 'store_num')]}),\n",
       " (' DOLLAR GENERAL 14', {'entities': [(16, 18, 'store_num')]}),\n",
       " (' WINN DIXIE 2454 SEFFNER FL 1033 ', {'entities': [(12, 16, 'store_num')]}),\n",
       " (' NST ROSS STORES 17871401', {'entities': [(17, 25, 'store_num')]}),\n",
       " (' KANGAROO EXPRESS 3192 SILER CITY NC',\n",
       "  {'entities': [(18, 22, 'store_num')]}),\n",
       " (' NNT SEARS HOMETOWN 862751', {'entities': [(20, 24, 'store_num')]}),\n",
       " (' KANGAROO EXP 1', {'entities': [(14, 15, 'store_num')]}),\n",
       " (' NAVY EXCHANGE 50161 3', {'entities': [(15, 20, 'store_num')]}),\n",
       " (' KANGAROO EXPRESS 3889', {'entities': [(18, 22, 'store_num')]}),\n",
       " (' NST BEST BUY 401 731468', {'entities': [(14, 17, 'store_num')]}),\n",
       " (' CASEYS GEN STORE 2597 SLOAN IA51055',\n",
       "  {'entities': [(18, 22, 'store_num')]}),\n",
       " (' PAPA JOHN S 1253', {'entities': [(13, 17, 'store_num')]}),\n",
       " (' NST BEST BUY 507 762589', {'entities': [(14, 17, 'store_num')]}),\n",
       " (' NST ROSS STORE 472831773', {'entities': [(16, 25, 'store_num')]}),\n",
       " (' NST BEST BUY 277 661145', {'entities': [(14, 17, 'store_num')]}),\n",
       " (' NST BEST BUY 59 60251', {'entities': [(14, 16, 'store_num')]}),\n",
       " (' NST BEST BUY 48 72393', {'entities': [(14, 16, 'store_num')]}),\n",
       " (' NST BEST BUY 231 160037', {'entities': [(14, 17, 'store_num')]}),\n",
       " (' WALGREENS 11332', {'entities': [(11, 16, 'store_num')]}),\n",
       " (' NST ROSS STORES 16482149', {'entities': [(17, 25, 'store_num')]}),\n",
       " (' MCDONALD S F33735', {'entities': [(12, 18, 'store_num')]}),\n",
       " (' MCDONALD S F671', {'entities': [(12, 16, 'store_num')]}),\n",
       " (' MCDONALD S F11370 ', {'entities': [(12, 18, 'store_num')]}),\n",
       " (' WM SUPERCENTER 50', {'entities': [(16, 18, 'store_num')]}),\n",
       " (' BURGER KING 11820 Q07', {'entities': [(13, 18, 'store_num')]}),\n",
       " (' DENNY S 6619 ON', {'entities': [(9, 13, 'store_num')]}),\n",
       " (' DOMINO S 6102', {'entities': [(10, 14, 'store_num')]}),\n",
       " (' MCDONALD S F2383 972 231 3337 TX', {'entities': [(12, 17, 'store_num')]}),\n",
       " (' TACO BELL 733780', {'entities': [(11, 17, 'store_num')]}),\n",
       " (' NST ROSS STORES 62132001', {'entities': [(17, 25, 'store_num')]}),\n",
       " (' MCDONALD S F33124', {'entities': [(12, 18, 'store_num')]}),\n",
       " (' WALGREENS 15392', {'entities': [(11, 16, 'store_num')]}),\n",
       " (' NNT HIBBETT SPORTS 860977', {'entities': [(20, 26, 'store_num')]}),\n",
       " (' MCDONALD S F122', {'entities': [(12, 16, 'store_num')]}),\n",
       " (' PAPA JOHN S 982', {'entities': [(13, 16, 'store_num')]}),\n",
       " (' NST BEST BUY 188 871025', {'entities': [(14, 17, 'store_num')]}),\n",
       " (' TACO BELL 15843', {'entities': [(11, 16, 'store_num')]}),\n",
       " (' CIRCLE K 2742643', {'entities': [(10, 17, 'store_num')]}),\n",
       " ('NNT FAMOUS FOOTWEAR 1261 ', {'entities': [(20, 24, 'store_num')]}),\n",
       " (' EXPRESS 813', {'entities': [(9, 12, 'store_num')]}),\n",
       " (' BURGER KING 7414', {'entities': [(13, 17, 'store_num')]}),\n",
       " (' SUNOCO 39962380', {'entities': [(8, 16, 'store_num')]}),\n",
       " (' NST BEST BUY 392 80590', {'entities': [(14, 17, 'store_num')]}),\n",
       " (' ARCO 66165', {'entities': [(6, 11, 'store_num')]}),\n",
       " (' WAL MART 647', {'entities': [(10, 13, 'store_num')]}),\n",
       " (' H R BLOCK 14788', {'entities': [(11, 16, 'store_num')]}),\n",
       " (' FOOTACTION 57331 TAMPA FL 2340 ', {'entities': [(12, 17, 'store_num')]}),\n",
       " (' 7 ELEVEN 34493', {'entities': [(10, 15, 'store_num')]}),\n",
       " (' HOLIDAY STNSTORE 408', {'entities': [(18, 21, 'store_num')]}),\n",
       " (' STARBUCKS 10101', {'entities': [(11, 16, 'store_num')]}),\n",
       " (' SUNOCO 837208800 STATEN ISLANDNY', {'entities': [(8, 17, 'store_num')]}),\n",
       " (' NST BEST BUY 405 562536', {'entities': [(14, 17, 'store_num')]}),\n",
       " (' PANERA BREAD 601128', {'entities': [(14, 20, 'store_num')]}),\n",
       " (' BURGER KING 4633 Q07', {'entities': [(13, 17, 'store_num')]}),\n",
       " (' WAL MART 1997', {'entities': [(10, 14, 'store_num')]}),\n",
       " (' NST ROSS STORES 21000236', {'entities': [(17, 25, 'store_num')]}),\n",
       " ('NNT FAMOUS FOOTWEAR 730376 ', {'entities': [(20, 26, 'store_num')]}),\n",
       " ('MARATHON PETRO 170928 MIAMI', {'entities': [(15, 21, 'store_num')]}),\n",
       " (' SUNOCO 104235700 QPS', {'entities': [(8, 17, 'store_num')]}),\n",
       " (' NNT FAMOUSFOOTWEAR 132427', {'entities': [(20, 26, 'store_num')]}),\n",
       " (' STARBUCKS STORE 11966', {'entities': [(17, 22, 'store_num')]}),\n",
       " (' SUBWAY 3317963', {'entities': [(8, 15, 'store_num')]}),\n",
       " (' NST BEST BUY 401 948', {'entities': [(14, 17, 'store_num')]}),\n",
       " (' NST BEST BUY 51 672842', {'entities': [(14, 16, 'store_num')]}),\n",
       " (' PAPA MURPHY S UT044 OLO', {'entities': [(15, 20, 'store_num')]}),\n",
       " ('BP 1003300 DANADA SQUS', {'entities': [(3, 10, 'store_num')]}),\n",
       " (' SUBWAY 32128', {'entities': [(8, 12, 'store_num')]}),\n",
       " (' TEXACO 303733', {'entities': [(8, 14, 'store_num')]}),\n",
       " (' THE BUCKLE 513', {'entities': [(12, 15, 'store_num')]}),\n",
       " (' MCDONALD S F2151', {'entities': [(12, 17, 'store_num')]}),\n",
       " (' NST BEST BUY 1403 332411', {'entities': [(14, 18, 'store_num')]}),\n",
       " (' CVS PHARMACY 6689', {'entities': [(14, 18, 'store_num')]}),\n",
       " (' BANANA REPUBLIC 8109', {'entities': [(17, 21, 'store_num')]}),\n",
       " (' BOSTON MARKET 443', {'entities': [(15, 18, 'store_num')]})]"
      ]
     },
     "execution_count": 22,
     "metadata": {},
     "output_type": "execute_result"
    }
   ],
   "source": [
    "test_data = load_spacy_data(df.loc[df['dataset']=='test'], dataset='test')\n",
    "\n",
    "test_data"
   ]
  },
  {
   "cell_type": "markdown",
   "id": "1c33ffd1",
   "metadata": {},
   "source": [
    "Let's do an informal test on one of our entries!"
   ]
  },
  {
   "cell_type": "code",
   "execution_count": 23,
   "id": "90be4611",
   "metadata": {},
   "outputs": [
    {
     "data": {
      "text/plain": [
       "(' IN N OUT BURGER 242', {'entities': [(17, 20, 'store_num')]})"
      ]
     },
     "execution_count": 23,
     "metadata": {},
     "output_type": "execute_result"
    }
   ],
   "source": [
    "test_1 = test_data[0]\n",
    "\n",
    "test_1"
   ]
  },
  {
   "cell_type": "code",
   "execution_count": 24,
   "id": "bc0ce1e3",
   "metadata": {},
   "outputs": [
    {
     "name": "stdout",
     "output_type": "stream",
     "text": [
      "242 store_num\n"
     ]
    }
   ],
   "source": [
    "# apply the model to the text of our first test data\n",
    "\n",
    "test1_doc = nlp_best(test_1[0])\n",
    "\n",
    "for ent in test1_doc.ents:\n",
    "    print(ent.text, ent.label_)"
   ]
  },
  {
   "cell_type": "markdown",
   "id": "05585a10",
   "metadata": {},
   "source": [
    "It works on our first test entry. Let us look at a few more interesting ones..."
   ]
  },
  {
   "cell_type": "code",
   "execution_count": 25,
   "id": "fa1786fa",
   "metadata": {},
   "outputs": [
    {
     "data": {
      "text/plain": [
       "('BP 9442088 LIBERTYVILLE B', {'entities': [(3, 10, 'store_num')]})"
      ]
     },
     "execution_count": 25,
     "metadata": {},
     "output_type": "execute_result"
    }
   ],
   "source": [
    "test_2 = test_data[1]\n",
    "\n",
    "test_2"
   ]
  },
  {
   "cell_type": "code",
   "execution_count": 26,
   "id": "e25ee395",
   "metadata": {},
   "outputs": [
    {
     "name": "stdout",
     "output_type": "stream",
     "text": [
      "9442088 store_num\n"
     ]
    }
   ],
   "source": [
    "test2_doc = nlp_best(test_2[0])\n",
    "\n",
    "if len(test2_doc.ents) == 0:\n",
    "    li1.append('False')\n",
    "for ent in test2_doc.ents:\n",
    "    print(ent.text, ent.label_)"
   ]
  },
  {
   "cell_type": "markdown",
   "id": "2eef8347",
   "metadata": {},
   "source": [
    "The data cleaning we did earlier was extremely helpful because originally, this entry had \"9442088LIBERTYVILLE\", which would've made the store number indistinguishable."
   ]
  },
  {
   "cell_type": "code",
   "execution_count": 27,
   "id": "691c64f1",
   "metadata": {},
   "outputs": [
    {
     "data": {
      "text/plain": [
       "(' LBOUTLETS 4249 1475 N BUR', {'entities': [(11, 15, 'store_num')]})"
      ]
     },
     "execution_count": 27,
     "metadata": {},
     "output_type": "execute_result"
    }
   ],
   "source": [
    "test_3 = test_data[7]\n",
    "\n",
    "test_3"
   ]
  },
  {
   "cell_type": "code",
   "execution_count": 28,
   "id": "ac7a4dfe",
   "metadata": {},
   "outputs": [
    {
     "data": {
      "text/plain": [
       "[('4249', 'store_num')]"
      ]
     },
     "execution_count": 28,
     "metadata": {},
     "output_type": "execute_result"
    }
   ],
   "source": [
    "test3_doc = nlp_best(test_3[0])\n",
    "li1 = []\n",
    "for ent in test3_doc.ents:\n",
    "    if len(test3_doc.ents) == 0:\n",
    "        li1.append('False')\n",
    "    else:\n",
    "        li1.append((ent.text, ent.label_))\n",
    "li1"
   ]
  },
  {
   "cell_type": "markdown",
   "id": "53fd5aaa",
   "metadata": {},
   "source": [
    "In cases where there are multiple numbers, this model seems to be able to tell the difference between the numbers. \n",
    "\n",
    "For example, in our example just now, we had the descriptor:\n",
    "\n",
    "\"LBOUTLETS 4249 1475 N BUR\"\n",
    "\n",
    "Our model was able to recognize that **4249** was preceded by a store or organization, and that **1475** was simply the number that came before an address.\n",
    "\n",
    "### Testing Pipeline\n",
    "\n",
    "Let us inference our model on our entire testing set."
   ]
  },
  {
   "cell_type": "code",
   "execution_count": 29,
   "id": "8f20463e",
   "metadata": {},
   "outputs": [],
   "source": [
    "# function for quick testing\n",
    "# test_data - of the form generated by load_spacy_data function\n",
    "\n",
    "def test_ner(test_data, model):\n",
    "    li_inference_results = []\n",
    "    # iterate through texts and apply model\n",
    "    for ind, (text, annotations) in enumerate(test_data):\n",
    "        doc_test = model(text)\n",
    "        \n",
    "        # if the model doesn't predict anything, throw a blank output into the list\n",
    "        # otherwise append the prediction + label\n",
    "        if len(doc_test.ents) == 0:\n",
    "            \n",
    "            # we can hardcode 'store_num' as label because we're only looking for store_num labels\n",
    "            li_inference_results.append((ind,'', 'store_num',len(doc_test.ents)))\n",
    "        else:\n",
    "            for ent in doc_test.ents:\n",
    "                li_inference_results.append((ind, text, ent.text, ent.label_, len(doc_test.ents)))\n",
    "    return li_inference_results"
   ]
  },
  {
   "cell_type": "markdown",
   "id": "978f57f9",
   "metadata": {},
   "source": [
    "The output of our model is of the form:\n",
    "\n",
    "(the input index that the label corresponds to, the input (descriptor), the prediction (store number), label ('store_num'), numbers of predictions that the model made for the descriptor)"
   ]
  },
  {
   "cell_type": "code",
   "execution_count": 30,
   "id": "19658346",
   "metadata": {
    "collapsed": true
   },
   "outputs": [
    {
     "data": {
      "text/plain": [
       "[(0, ' IN N OUT BURGER 242', '242', 'store_num', 1),\n",
       " (1, 'BP 9442088 LIBERTYVILLE B', '9442088', 'store_num', 1),\n",
       " (2, ' JCPENNEY 1419', '1419', 'store_num', 1),\n",
       " (3, ' ROSS STORES 1019', '1019', 'store_num', 1),\n",
       " (4, ' WM SUPERCENTER 38', '38', 'store_num', 1),\n",
       " (5, ' TUESDAY MORNING 673 6', '673', 'store_num', 1),\n",
       " (6, ' IHOP 629 WHITE HOUSE TN', '629', 'store_num', 1),\n",
       " (7, ' LBOUTLETS 4249 1475 N BUR', '4249', 'store_num', 1),\n",
       " (8, ' WINN DIXIE 2505 VALRICO FL 3454 ', '2505', 'store_num', 2),\n",
       " (8, ' WINN DIXIE 2505 VALRICO FL 3454 ', '3454', 'store_num', 2),\n",
       " (9, ' BURLINGTON STORES 825', '825', 'store_num', 1),\n",
       " (10, ' WM SUPERCENTER 2923', '2923', 'store_num', 1),\n",
       " (11, ' BUFFALO WILD WINGS 58 CARSON CITY NV', '58', 'store_num', 1),\n",
       " (12, ' BOB EVANS REST 2039', '2039', 'store_num', 1),\n",
       " (13, ' JIMMY JOHNS 382 E', '382', 'store_num', 1),\n",
       " (14, ' PENSKE TRK LSG 12260', '12260', 'store_num', 1),\n",
       " (15, ' AEROPOSTALE 864', '864', 'store_num', 1),\n",
       " (16, ' GIANT 338', '338', 'store_num', 1),\n",
       " (17, ' DOLLAR GENERAL DG 11', '11', 'store_num', 1),\n",
       " (18, ' NNT ITS FASHION 70360265', '70360265', 'store_num', 1),\n",
       " (19, ' BIG LOTS STORES 4393 ', '4393', 'store_num', 1),\n",
       " (20, ' AT T SPRING MOBILE 62', '62', 'store_num', 1),\n",
       " (21, ' OLD NAVY US 7212', '7212', 'store_num', 1),\n",
       " (22, ' BP 8644346ES 30 B96', '8644346ES', 'store_num', 2),\n",
       " (22, ' BP 8644346ES 30 B96', '30', 'store_num', 2),\n",
       " (23, 'NNT POLO RL WRENTHA 130571 ', '130571', 'store_num', 1),\n",
       " (24, ' CHAMPS 14178', '14178', 'store_num', 1),\n",
       " (25, ' CNS GUESS 3220 282163', '3220', 'store_num', 1),\n",
       " (26, ' HOMEGOODS 407', '407', 'store_num', 1),\n",
       " (27, ' DOLLAR GENERAL 14', '14', 'store_num', 1),\n",
       " (28, ' WINN DIXIE 2454 SEFFNER FL 1033 ', '2454', 'store_num', 2),\n",
       " (28, ' WINN DIXIE 2454 SEFFNER FL 1033 ', '1033', 'store_num', 2),\n",
       " (29, ' NST ROSS STORES 17871401', '17871401', 'store_num', 1),\n",
       " (30, ' KANGAROO EXPRESS 3192 SILER CITY NC', '3192', 'store_num', 1),\n",
       " (31, ' NNT SEARS HOMETOWN 862751', '862751', 'store_num', 1),\n",
       " (32, ' KANGAROO EXP 1', '1', 'store_num', 1),\n",
       " (33, ' NAVY EXCHANGE 50161 3', '50161', 'store_num', 2),\n",
       " (33, ' NAVY EXCHANGE 50161 3', '3', 'store_num', 2),\n",
       " (34, ' KANGAROO EXPRESS 3889', '3889', 'store_num', 1),\n",
       " (35, ' NST BEST BUY 401 731468', '401', 'store_num', 1),\n",
       " (36, ' CASEYS GEN STORE 2597 SLOAN IA51055', '2597', 'store_num', 2),\n",
       " (36, ' CASEYS GEN STORE 2597 SLOAN IA51055', 'IA51055', 'store_num', 2),\n",
       " (37, ' PAPA JOHN S 1253', '1253', 'store_num', 1),\n",
       " (38, ' NST BEST BUY 507 762589', '507', 'store_num', 1),\n",
       " (39, ' NST ROSS STORE 472831773', '472831773', 'store_num', 1),\n",
       " (40, ' NST BEST BUY 277 661145', '277', 'store_num', 1),\n",
       " (41, ' NST BEST BUY 59 60251', '59', 'store_num', 1),\n",
       " (42, ' NST BEST BUY 48 72393', '48', 'store_num', 2),\n",
       " (42, ' NST BEST BUY 48 72393', '72393', 'store_num', 2),\n",
       " (43, ' NST BEST BUY 231 160037', '231', 'store_num', 1),\n",
       " (44, ' WALGREENS 11332', '11332', 'store_num', 1),\n",
       " (45, ' NST ROSS STORES 16482149', '16482149', 'store_num', 1),\n",
       " (46, ' MCDONALD S F33735', 'F33735', 'store_num', 1),\n",
       " (47, ' MCDONALD S F671', 'F671', 'store_num', 1),\n",
       " (48, ' MCDONALD S F11370 ', 'F11370', 'store_num', 1),\n",
       " (49, ' WM SUPERCENTER 50', '50', 'store_num', 1),\n",
       " (50, ' BURGER KING 11820 Q07', '11820', 'store_num', 1),\n",
       " (51, ' DENNY S 6619 ON', '6619', 'store_num', 1),\n",
       " (52, ' DOMINO S 6102', '6102', 'store_num', 1),\n",
       " (53, ' MCDONALD S F2383 972 231 3337 TX', 'F2383', 'store_num', 1),\n",
       " (54, ' TACO BELL 733780', '733780', 'store_num', 1),\n",
       " (55, ' NST ROSS STORES 62132001', '62132001', 'store_num', 1),\n",
       " (56, ' MCDONALD S F33124', 'F33124', 'store_num', 1),\n",
       " (57, ' WALGREENS 15392', '15392', 'store_num', 1),\n",
       " (58, ' NNT HIBBETT SPORTS 860977', '860977', 'store_num', 1),\n",
       " (59, ' MCDONALD S F122', 'F122', 'store_num', 1),\n",
       " (60, ' PAPA JOHN S 982', '982', 'store_num', 1),\n",
       " (61, ' NST BEST BUY 188 871025', '188', 'store_num', 1),\n",
       " (62, ' TACO BELL 15843', '15843', 'store_num', 1),\n",
       " (63, ' CIRCLE K 2742643', '2742643', 'store_num', 1),\n",
       " (64, 'NNT FAMOUS FOOTWEAR 1261 ', '1261', 'store_num', 1),\n",
       " (65, ' EXPRESS 813', '813', 'store_num', 1),\n",
       " (66, ' BURGER KING 7414', '7414', 'store_num', 1),\n",
       " (67, ' SUNOCO 39962380', '39962380', 'store_num', 1),\n",
       " (68, ' NST BEST BUY 392 80590', '392', 'store_num', 1),\n",
       " (69, ' ARCO 66165', '66165', 'store_num', 1),\n",
       " (70, ' WAL MART 647', '647', 'store_num', 1),\n",
       " (71, ' H R BLOCK 14788', '14788', 'store_num', 1),\n",
       " (72, ' FOOTACTION 57331 TAMPA FL 2340 ', '57331', 'store_num', 2),\n",
       " (72, ' FOOTACTION 57331 TAMPA FL 2340 ', '2340', 'store_num', 2),\n",
       " (73, ' 7 ELEVEN 34493', '34493', 'store_num', 1),\n",
       " (74, ' HOLIDAY STNSTORE 408', '408', 'store_num', 1),\n",
       " (75, ' STARBUCKS 10101', '10101', 'store_num', 1),\n",
       " (76, ' SUNOCO 837208800 STATEN ISLANDNY', '837208800', 'store_num', 1),\n",
       " (77, ' NST BEST BUY 405 562536', '405', 'store_num', 1),\n",
       " (78, ' PANERA BREAD 601128', '601128', 'store_num', 1),\n",
       " (79, ' BURGER KING 4633 Q07', '4633', 'store_num', 1),\n",
       " (80, ' WAL MART 1997', '1997', 'store_num', 1),\n",
       " (81, ' NST ROSS STORES 21000236', '21000236', 'store_num', 1),\n",
       " (82, 'NNT FAMOUS FOOTWEAR 730376 ', '730376', 'store_num', 1),\n",
       " (83, 'MARATHON PETRO 170928 MIAMI', '170928', 'store_num', 1),\n",
       " (84, ' SUNOCO 104235700 QPS', '104235700', 'store_num', 1),\n",
       " (85, ' NNT FAMOUSFOOTWEAR 132427', '132427', 'store_num', 1),\n",
       " (86, ' STARBUCKS STORE 11966', '11966', 'store_num', 1),\n",
       " (87, ' SUBWAY 3317963', '3317963', 'store_num', 1),\n",
       " (88, ' NST BEST BUY 401 948', '401', 'store_num', 1),\n",
       " (89, ' NST BEST BUY 51 672842', '51', 'store_num', 1),\n",
       " (90, ' PAPA MURPHY S UT044 OLO', 'UT044', 'store_num', 1),\n",
       " (91, 'BP 1003300 DANADA SQUS', '1003300', 'store_num', 1),\n",
       " (92, ' SUBWAY 32128', '32128', 'store_num', 1),\n",
       " (93, ' TEXACO 303733', '303733', 'store_num', 1),\n",
       " (94, ' THE BUCKLE 513', '513', 'store_num', 1),\n",
       " (95, ' MCDONALD S F2151', 'F2151', 'store_num', 1),\n",
       " (96, ' NST BEST BUY 1403 332411', '1403', 'store_num', 1),\n",
       " (97, ' CVS PHARMACY 6689', '6689', 'store_num', 1),\n",
       " (98, ' BANANA REPUBLIC 8109', '8109', 'store_num', 1),\n",
       " (99, ' BOSTON MARKET 443', '443', 'store_num', 1)]"
      ]
     },
     "execution_count": 30,
     "metadata": {},
     "output_type": "execute_result"
    }
   ],
   "source": [
    "inference_output = test_ner(test_data, nlp_best)\n",
    "\n",
    "inference_output"
   ]
  },
  {
   "cell_type": "code",
   "execution_count": 31,
   "id": "a50fab7f",
   "metadata": {},
   "outputs": [
    {
     "data": {
      "text/plain": [
       "107"
      ]
     },
     "execution_count": 31,
     "metadata": {},
     "output_type": "execute_result"
    }
   ],
   "source": [
    "len(inference_output)"
   ]
  },
  {
   "cell_type": "markdown",
   "id": "4d1cc2a7",
   "metadata": {},
   "source": [
    "Let us see which ones were either blank predictions, or had multiple predictions."
   ]
  },
  {
   "cell_type": "code",
   "execution_count": 32,
   "id": "da6d7f7e",
   "metadata": {},
   "outputs": [
    {
     "name": "stdout",
     "output_type": "stream",
     "text": [
      "The descriptor at entry 8 is  WINN DIXIE 2505 VALRICO FL 3454 \n",
      "The predicted store number for entry 8 is 2505\n",
      "\n",
      "The descriptor at entry 8 is  WINN DIXIE 2505 VALRICO FL 3454 \n",
      "The predicted store number for entry 8 is 3454\n",
      "\n",
      "The descriptor at entry 22 is  BP 8644346ES 30 B96\n",
      "The predicted store number for entry 22 is 8644346ES\n",
      "\n",
      "The descriptor at entry 22 is  BP 8644346ES 30 B96\n",
      "The predicted store number for entry 22 is 30\n",
      "\n",
      "The descriptor at entry 28 is  WINN DIXIE 2454 SEFFNER FL 1033 \n",
      "The predicted store number for entry 28 is 2454\n",
      "\n",
      "The descriptor at entry 28 is  WINN DIXIE 2454 SEFFNER FL 1033 \n",
      "The predicted store number for entry 28 is 1033\n",
      "\n",
      "The descriptor at entry 33 is  NAVY EXCHANGE 50161 3\n",
      "The predicted store number for entry 33 is 50161\n",
      "\n",
      "The descriptor at entry 33 is  NAVY EXCHANGE 50161 3\n",
      "The predicted store number for entry 33 is 3\n",
      "\n",
      "The descriptor at entry 36 is  CASEYS GEN STORE 2597 SLOAN IA51055\n",
      "The predicted store number for entry 36 is 2597\n",
      "\n",
      "The descriptor at entry 36 is  CASEYS GEN STORE 2597 SLOAN IA51055\n",
      "The predicted store number for entry 36 is IA51055\n",
      "\n",
      "The descriptor at entry 42 is  NST BEST BUY 48 72393\n",
      "The predicted store number for entry 42 is 48\n",
      "\n",
      "The descriptor at entry 42 is  NST BEST BUY 48 72393\n",
      "The predicted store number for entry 42 is 72393\n",
      "\n",
      "The descriptor at entry 72 is  FOOTACTION 57331 TAMPA FL 2340 \n",
      "The predicted store number for entry 72 is 57331\n",
      "\n",
      "The descriptor at entry 72 is  FOOTACTION 57331 TAMPA FL 2340 \n",
      "The predicted store number for entry 72 is 2340\n",
      "\n"
     ]
    }
   ],
   "source": [
    "for index, descriptor, prediction, _, len_ in inference_output:\n",
    "    if len_ != 1:\n",
    "        print(f'The descriptor at entry {index} is {descriptor}')\n",
    "        print(f'The predicted store number for entry {index} is {prediction}\\n')"
   ]
  },
  {
   "cell_type": "markdown",
   "id": "2a44201d",
   "metadata": {},
   "source": [
    "As we see here, our model still gets hung up on entries where there is a number present in the descriptor (especially numbers in addresses). Numbers next to addresses are a particular weakness, because our model can deduce context, and because locations (like \"TAMPA FL\") are nouns, **the model cannot make a definitive decision** on whether a number (2340) following a location (TAMPA FL) **is actually a store number of an address number**. Something we could do to go further  would be to feed additional labels that actually make a difference between address numbers and store numbers."
   ]
  },
  {
   "cell_type": "code",
   "execution_count": 33,
   "id": "ceb5a5cc",
   "metadata": {},
   "outputs": [
    {
     "data": {
      "text/plain": [
       "[(0, ' IN N OUT BURGER 242', '242', 'store_num', 1),\n",
       " (1, 'BP 9442088 LIBERTYVILLE B', '9442088', 'store_num', 1),\n",
       " (2, ' JCPENNEY 1419', '1419', 'store_num', 1),\n",
       " (3, ' ROSS STORES 1019', '1019', 'store_num', 1),\n",
       " (4, ' WM SUPERCENTER 38', '38', 'store_num', 1),\n",
       " (5, ' TUESDAY MORNING 673 6', '673', 'store_num', 1),\n",
       " (6, ' IHOP 629 WHITE HOUSE TN', '629', 'store_num', 1),\n",
       " (7, ' LBOUTLETS 4249 1475 N BUR', '4249', 'store_num', 1),\n",
       " (8, ' WINN DIXIE 2505 VALRICO FL 3454 ', '2505', 'store_num', 2),\n",
       " (8, ' WINN DIXIE 2505 VALRICO FL 3454 ', '3454', 'store_num', 2),\n",
       " (9, ' BURLINGTON STORES 825', '825', 'store_num', 1),\n",
       " (10, ' WM SUPERCENTER 2923', '2923', 'store_num', 1),\n",
       " (11, ' BUFFALO WILD WINGS 58 CARSON CITY NV', '58', 'store_num', 1),\n",
       " (12, ' BOB EVANS REST 2039', '2039', 'store_num', 1),\n",
       " (13, ' JIMMY JOHNS 382 E', '382', 'store_num', 1),\n",
       " (14, ' PENSKE TRK LSG 12260', '12260', 'store_num', 1),\n",
       " (15, ' AEROPOSTALE 864', '864', 'store_num', 1),\n",
       " (16, ' GIANT 338', '338', 'store_num', 1),\n",
       " (17, ' DOLLAR GENERAL DG 11', '11', 'store_num', 1),\n",
       " (18, ' NNT ITS FASHION 70360265', '70360265', 'store_num', 1),\n",
       " (19, ' BIG LOTS STORES 4393 ', '4393', 'store_num', 1),\n",
       " (20, ' AT T SPRING MOBILE 62', '62', 'store_num', 1),\n",
       " (21, ' OLD NAVY US 7212', '7212', 'store_num', 1),\n",
       " (22, ' BP 8644346ES 30 B96', '8644346ES', 'store_num', 2),\n",
       " (22, ' BP 8644346ES 30 B96', '30', 'store_num', 2),\n",
       " (23, 'NNT POLO RL WRENTHA 130571 ', '130571', 'store_num', 1),\n",
       " (24, ' CHAMPS 14178', '14178', 'store_num', 1),\n",
       " (25, ' CNS GUESS 3220 282163', '3220', 'store_num', 1),\n",
       " (26, ' HOMEGOODS 407', '407', 'store_num', 1),\n",
       " (27, ' DOLLAR GENERAL 14', '14', 'store_num', 1),\n",
       " (28, ' WINN DIXIE 2454 SEFFNER FL 1033 ', '2454', 'store_num', 2),\n",
       " (28, ' WINN DIXIE 2454 SEFFNER FL 1033 ', '1033', 'store_num', 2),\n",
       " (29, ' NST ROSS STORES 17871401', '17871401', 'store_num', 1),\n",
       " (30, ' KANGAROO EXPRESS 3192 SILER CITY NC', '3192', 'store_num', 1),\n",
       " (31, ' NNT SEARS HOMETOWN 862751', '862751', 'store_num', 1),\n",
       " (32, ' KANGAROO EXP 1', '1', 'store_num', 1),\n",
       " (33, ' NAVY EXCHANGE 50161 3', '50161', 'store_num', 2),\n",
       " (33, ' NAVY EXCHANGE 50161 3', '3', 'store_num', 2),\n",
       " (34, ' KANGAROO EXPRESS 3889', '3889', 'store_num', 1),\n",
       " (35, ' NST BEST BUY 401 731468', '401', 'store_num', 1),\n",
       " (36, ' CASEYS GEN STORE 2597 SLOAN IA51055', '2597', 'store_num', 2),\n",
       " (36, ' CASEYS GEN STORE 2597 SLOAN IA51055', 'IA51055', 'store_num', 2),\n",
       " (37, ' PAPA JOHN S 1253', '1253', 'store_num', 1),\n",
       " (38, ' NST BEST BUY 507 762589', '507', 'store_num', 1),\n",
       " (39, ' NST ROSS STORE 472831773', '472831773', 'store_num', 1),\n",
       " (40, ' NST BEST BUY 277 661145', '277', 'store_num', 1),\n",
       " (41, ' NST BEST BUY 59 60251', '59', 'store_num', 1),\n",
       " (42, ' NST BEST BUY 48 72393', '48', 'store_num', 2),\n",
       " (42, ' NST BEST BUY 48 72393', '72393', 'store_num', 2),\n",
       " (43, ' NST BEST BUY 231 160037', '231', 'store_num', 1),\n",
       " (44, ' WALGREENS 11332', '11332', 'store_num', 1),\n",
       " (45, ' NST ROSS STORES 16482149', '16482149', 'store_num', 1),\n",
       " (46, ' MCDONALD S F33735', 'F33735', 'store_num', 1),\n",
       " (47, ' MCDONALD S F671', 'F671', 'store_num', 1),\n",
       " (48, ' MCDONALD S F11370 ', 'F11370', 'store_num', 1),\n",
       " (49, ' WM SUPERCENTER 50', '50', 'store_num', 1),\n",
       " (50, ' BURGER KING 11820 Q07', '11820', 'store_num', 1),\n",
       " (51, ' DENNY S 6619 ON', '6619', 'store_num', 1),\n",
       " (52, ' DOMINO S 6102', '6102', 'store_num', 1),\n",
       " (53, ' MCDONALD S F2383 972 231 3337 TX', 'F2383', 'store_num', 1),\n",
       " (54, ' TACO BELL 733780', '733780', 'store_num', 1),\n",
       " (55, ' NST ROSS STORES 62132001', '62132001', 'store_num', 1),\n",
       " (56, ' MCDONALD S F33124', 'F33124', 'store_num', 1),\n",
       " (57, ' WALGREENS 15392', '15392', 'store_num', 1),\n",
       " (58, ' NNT HIBBETT SPORTS 860977', '860977', 'store_num', 1),\n",
       " (59, ' MCDONALD S F122', 'F122', 'store_num', 1),\n",
       " (60, ' PAPA JOHN S 982', '982', 'store_num', 1),\n",
       " (61, ' NST BEST BUY 188 871025', '188', 'store_num', 1),\n",
       " (62, ' TACO BELL 15843', '15843', 'store_num', 1),\n",
       " (63, ' CIRCLE K 2742643', '2742643', 'store_num', 1),\n",
       " (64, 'NNT FAMOUS FOOTWEAR 1261 ', '1261', 'store_num', 1),\n",
       " (65, ' EXPRESS 813', '813', 'store_num', 1),\n",
       " (66, ' BURGER KING 7414', '7414', 'store_num', 1),\n",
       " (67, ' SUNOCO 39962380', '39962380', 'store_num', 1),\n",
       " (68, ' NST BEST BUY 392 80590', '392', 'store_num', 1),\n",
       " (69, ' ARCO 66165', '66165', 'store_num', 1),\n",
       " (70, ' WAL MART 647', '647', 'store_num', 1),\n",
       " (71, ' H R BLOCK 14788', '14788', 'store_num', 1),\n",
       " (72, ' FOOTACTION 57331 TAMPA FL 2340 ', '57331', 'store_num', 2),\n",
       " (72, ' FOOTACTION 57331 TAMPA FL 2340 ', '2340', 'store_num', 2),\n",
       " (73, ' 7 ELEVEN 34493', '34493', 'store_num', 1),\n",
       " (74, ' HOLIDAY STNSTORE 408', '408', 'store_num', 1),\n",
       " (75, ' STARBUCKS 10101', '10101', 'store_num', 1),\n",
       " (76, ' SUNOCO 837208800 STATEN ISLANDNY', '837208800', 'store_num', 1),\n",
       " (77, ' NST BEST BUY 405 562536', '405', 'store_num', 1),\n",
       " (78, ' PANERA BREAD 601128', '601128', 'store_num', 1),\n",
       " (79, ' BURGER KING 4633 Q07', '4633', 'store_num', 1),\n",
       " (80, ' WAL MART 1997', '1997', 'store_num', 1),\n",
       " (81, ' NST ROSS STORES 21000236', '21000236', 'store_num', 1),\n",
       " (82, 'NNT FAMOUS FOOTWEAR 730376 ', '730376', 'store_num', 1),\n",
       " (83, 'MARATHON PETRO 170928 MIAMI', '170928', 'store_num', 1),\n",
       " (84, ' SUNOCO 104235700 QPS', '104235700', 'store_num', 1),\n",
       " (85, ' NNT FAMOUSFOOTWEAR 132427', '132427', 'store_num', 1),\n",
       " (86, ' STARBUCKS STORE 11966', '11966', 'store_num', 1),\n",
       " (87, ' SUBWAY 3317963', '3317963', 'store_num', 1),\n",
       " (88, ' NST BEST BUY 401 948', '401', 'store_num', 1),\n",
       " (89, ' NST BEST BUY 51 672842', '51', 'store_num', 1),\n",
       " (90, ' PAPA MURPHY S UT044 OLO', 'UT044', 'store_num', 1),\n",
       " (91, 'BP 1003300 DANADA SQUS', '1003300', 'store_num', 1),\n",
       " (92, ' SUBWAY 32128', '32128', 'store_num', 1),\n",
       " (93, ' TEXACO 303733', '303733', 'store_num', 1),\n",
       " (94, ' THE BUCKLE 513', '513', 'store_num', 1),\n",
       " (95, ' MCDONALD S F2151', 'F2151', 'store_num', 1),\n",
       " (96, ' NST BEST BUY 1403 332411', '1403', 'store_num', 1),\n",
       " (97, ' CVS PHARMACY 6689', '6689', 'store_num', 1),\n",
       " (98, ' BANANA REPUBLIC 8109', '8109', 'store_num', 1),\n",
       " (99, ' BOSTON MARKET 443', '443', 'store_num', 1)]"
      ]
     },
     "execution_count": 33,
     "metadata": {},
     "output_type": "execute_result"
    }
   ],
   "source": [
    "inference_output"
   ]
  },
  {
   "cell_type": "markdown",
   "id": "5b549e61",
   "metadata": {},
   "source": [
    "### Score our Model on Our Testing Set\n",
    "\n",
    "We will score the model on two criteria:\n",
    "\n",
    "- Accuracy: Out of all of the ground truths (so the 100 store number labels corresponding to descriptors), how many of them did the model predict correctly? (if the **model predicted more than 1 label for an input**, we will regard it as **incorrect**)\n",
    "\n",
    "- Precision: Out of all of the model's predictions (so the 107 predictions that were outputted above), how many of those were correct?\n",
    "\n",
    "**Note: Precision and Recall is typically used in classification, where we evaluate the precision and recall corresponding to each output class.**"
   ]
  },
  {
   "cell_type": "code",
   "execution_count": 41,
   "id": "d49f008a",
   "metadata": {},
   "outputs": [],
   "source": [
    "def score_model(inference_output, ground_truth_df, return_not_matched=False):\n",
    "    metrics_dict = dict()\n",
    "    not_matched = []\n",
    "    # initialize number correct, number that model matched\n",
    "    num_correct, num_matched = 0, 0\n",
    "    for _, descriptor, prediction, _, num_predictions in inference_output:\n",
    "        eval_row = ground_truth_df.loc[ground_truth_df['transaction_descriptor'] == descriptor]['store_number']\n",
    "        \n",
    "        # the prediction is matched if it matches the store_num value of the ground truth for the descriptor\n",
    "        if eval_row.values[0] == prediction:\n",
    "            num_matched += 1\n",
    "            \n",
    "            # the prediction can be CORRECT only if the store_num matches, and the model only took 1 attempt\n",
    "            if num_predictions == 1:\n",
    "                num_correct += 1\n",
    "        else:\n",
    "            not_matched.append((descriptor, prediction, num_predictions))\n",
    "    \n",
    "    metrics_dict['accuracy'] = num_correct / ground_truth_df.shape[0]\n",
    "    metrics_dict['precision'] = num_matched / len(inference_output)\n",
    "    if not return_not_matched:\n",
    "        return metrics_dict\n",
    "    else:\n",
    "        return metrics_dict, not_matched"
   ]
  },
  {
   "cell_type": "code",
   "execution_count": 42,
   "id": "9fd6e674",
   "metadata": {},
   "outputs": [
    {
     "name": "stdout",
     "output_type": "stream",
     "text": [
      "Our model accuracy is 90.000%\n",
      "Our model precision is 89.720%\n"
     ]
    }
   ],
   "source": [
    "test_df = df.loc[df['dataset'] == 'test']\n",
    "metrics = score_model(inference_output, test_df)\n",
    "\n",
    "accuracy_model, precision_model = metrics['accuracy'], metrics['precision']\n",
    "print(f'Our model accuracy is {accuracy_model*100:.3f}%')\n",
    "print(f'Our model precision is {precision_model*100:.3f}%')"
   ]
  },
  {
   "cell_type": "code",
   "execution_count": 36,
   "id": "cb14ca59",
   "metadata": {},
   "outputs": [
    {
     "data": {
      "text/plain": [
       "[(0, ' IN N OUT BURGER 242', '242', 'store_num', 1),\n",
       " (1, 'BP 9442088 LIBERTYVILLE B', '9442088', 'store_num', 1),\n",
       " (2, ' JCPENNEY 1419', '1419', 'store_num', 1),\n",
       " (3, ' ROSS STORES 1019', '1019', 'store_num', 1),\n",
       " (4, ' WM SUPERCENTER 38', '38', 'store_num', 1),\n",
       " (5, ' TUESDAY MORNING 673 6', '673', 'store_num', 1),\n",
       " (6, ' IHOP 629 WHITE HOUSE TN', '629', 'store_num', 1),\n",
       " (7, ' LBOUTLETS 4249 1475 N BUR', '4249', 'store_num', 1),\n",
       " (8, ' WINN DIXIE 2505 VALRICO FL 3454 ', '2505', 'store_num', 2),\n",
       " (8, ' WINN DIXIE 2505 VALRICO FL 3454 ', '3454', 'store_num', 2),\n",
       " (9, ' BURLINGTON STORES 825', '825', 'store_num', 1),\n",
       " (10, ' WM SUPERCENTER 2923', '2923', 'store_num', 1),\n",
       " (11, ' BUFFALO WILD WINGS 58 CARSON CITY NV', '58', 'store_num', 1),\n",
       " (12, ' BOB EVANS REST 2039', '2039', 'store_num', 1),\n",
       " (13, ' JIMMY JOHNS 382 E', '382', 'store_num', 1),\n",
       " (14, ' PENSKE TRK LSG 12260', '12260', 'store_num', 1),\n",
       " (15, ' AEROPOSTALE 864', '864', 'store_num', 1),\n",
       " (16, ' GIANT 338', '338', 'store_num', 1),\n",
       " (17, ' DOLLAR GENERAL DG 11', '11', 'store_num', 1),\n",
       " (18, ' NNT ITS FASHION 70360265', '70360265', 'store_num', 1),\n",
       " (19, ' BIG LOTS STORES 4393 ', '4393', 'store_num', 1),\n",
       " (20, ' AT T SPRING MOBILE 62', '62', 'store_num', 1),\n",
       " (21, ' OLD NAVY US 7212', '7212', 'store_num', 1),\n",
       " (22, ' BP 8644346ES 30 B96', '8644346ES', 'store_num', 2),\n",
       " (22, ' BP 8644346ES 30 B96', '30', 'store_num', 2),\n",
       " (23, 'NNT POLO RL WRENTHA 130571 ', '130571', 'store_num', 1),\n",
       " (24, ' CHAMPS 14178', '14178', 'store_num', 1),\n",
       " (25, ' CNS GUESS 3220 282163', '3220', 'store_num', 1),\n",
       " (26, ' HOMEGOODS 407', '407', 'store_num', 1),\n",
       " (27, ' DOLLAR GENERAL 14', '14', 'store_num', 1),\n",
       " (28, ' WINN DIXIE 2454 SEFFNER FL 1033 ', '2454', 'store_num', 2),\n",
       " (28, ' WINN DIXIE 2454 SEFFNER FL 1033 ', '1033', 'store_num', 2),\n",
       " (29, ' NST ROSS STORES 17871401', '17871401', 'store_num', 1),\n",
       " (30, ' KANGAROO EXPRESS 3192 SILER CITY NC', '3192', 'store_num', 1),\n",
       " (31, ' NNT SEARS HOMETOWN 862751', '862751', 'store_num', 1),\n",
       " (32, ' KANGAROO EXP 1', '1', 'store_num', 1),\n",
       " (33, ' NAVY EXCHANGE 50161 3', '50161', 'store_num', 2),\n",
       " (33, ' NAVY EXCHANGE 50161 3', '3', 'store_num', 2),\n",
       " (34, ' KANGAROO EXPRESS 3889', '3889', 'store_num', 1),\n",
       " (35, ' NST BEST BUY 401 731468', '401', 'store_num', 1),\n",
       " (36, ' CASEYS GEN STORE 2597 SLOAN IA51055', '2597', 'store_num', 2),\n",
       " (36, ' CASEYS GEN STORE 2597 SLOAN IA51055', 'IA51055', 'store_num', 2),\n",
       " (37, ' PAPA JOHN S 1253', '1253', 'store_num', 1),\n",
       " (38, ' NST BEST BUY 507 762589', '507', 'store_num', 1),\n",
       " (39, ' NST ROSS STORE 472831773', '472831773', 'store_num', 1),\n",
       " (40, ' NST BEST BUY 277 661145', '277', 'store_num', 1),\n",
       " (41, ' NST BEST BUY 59 60251', '59', 'store_num', 1),\n",
       " (42, ' NST BEST BUY 48 72393', '48', 'store_num', 2),\n",
       " (42, ' NST BEST BUY 48 72393', '72393', 'store_num', 2),\n",
       " (43, ' NST BEST BUY 231 160037', '231', 'store_num', 1),\n",
       " (44, ' WALGREENS 11332', '11332', 'store_num', 1),\n",
       " (45, ' NST ROSS STORES 16482149', '16482149', 'store_num', 1),\n",
       " (46, ' MCDONALD S F33735', 'F33735', 'store_num', 1),\n",
       " (47, ' MCDONALD S F671', 'F671', 'store_num', 1),\n",
       " (48, ' MCDONALD S F11370 ', 'F11370', 'store_num', 1),\n",
       " (49, ' WM SUPERCENTER 50', '50', 'store_num', 1),\n",
       " (50, ' BURGER KING 11820 Q07', '11820', 'store_num', 1),\n",
       " (51, ' DENNY S 6619 ON', '6619', 'store_num', 1),\n",
       " (52, ' DOMINO S 6102', '6102', 'store_num', 1),\n",
       " (53, ' MCDONALD S F2383 972 231 3337 TX', 'F2383', 'store_num', 1),\n",
       " (54, ' TACO BELL 733780', '733780', 'store_num', 1),\n",
       " (55, ' NST ROSS STORES 62132001', '62132001', 'store_num', 1),\n",
       " (56, ' MCDONALD S F33124', 'F33124', 'store_num', 1),\n",
       " (57, ' WALGREENS 15392', '15392', 'store_num', 1),\n",
       " (58, ' NNT HIBBETT SPORTS 860977', '860977', 'store_num', 1),\n",
       " (59, ' MCDONALD S F122', 'F122', 'store_num', 1),\n",
       " (60, ' PAPA JOHN S 982', '982', 'store_num', 1),\n",
       " (61, ' NST BEST BUY 188 871025', '188', 'store_num', 1),\n",
       " (62, ' TACO BELL 15843', '15843', 'store_num', 1),\n",
       " (63, ' CIRCLE K 2742643', '2742643', 'store_num', 1),\n",
       " (64, 'NNT FAMOUS FOOTWEAR 1261 ', '1261', 'store_num', 1),\n",
       " (65, ' EXPRESS 813', '813', 'store_num', 1),\n",
       " (66, ' BURGER KING 7414', '7414', 'store_num', 1),\n",
       " (67, ' SUNOCO 39962380', '39962380', 'store_num', 1),\n",
       " (68, ' NST BEST BUY 392 80590', '392', 'store_num', 1),\n",
       " (69, ' ARCO 66165', '66165', 'store_num', 1),\n",
       " (70, ' WAL MART 647', '647', 'store_num', 1),\n",
       " (71, ' H R BLOCK 14788', '14788', 'store_num', 1),\n",
       " (72, ' FOOTACTION 57331 TAMPA FL 2340 ', '57331', 'store_num', 2),\n",
       " (72, ' FOOTACTION 57331 TAMPA FL 2340 ', '2340', 'store_num', 2),\n",
       " (73, ' 7 ELEVEN 34493', '34493', 'store_num', 1),\n",
       " (74, ' HOLIDAY STNSTORE 408', '408', 'store_num', 1),\n",
       " (75, ' STARBUCKS 10101', '10101', 'store_num', 1),\n",
       " (76, ' SUNOCO 837208800 STATEN ISLANDNY', '837208800', 'store_num', 1),\n",
       " (77, ' NST BEST BUY 405 562536', '405', 'store_num', 1),\n",
       " (78, ' PANERA BREAD 601128', '601128', 'store_num', 1),\n",
       " (79, ' BURGER KING 4633 Q07', '4633', 'store_num', 1),\n",
       " (80, ' WAL MART 1997', '1997', 'store_num', 1),\n",
       " (81, ' NST ROSS STORES 21000236', '21000236', 'store_num', 1),\n",
       " (82, 'NNT FAMOUS FOOTWEAR 730376 ', '730376', 'store_num', 1),\n",
       " (83, 'MARATHON PETRO 170928 MIAMI', '170928', 'store_num', 1),\n",
       " (84, ' SUNOCO 104235700 QPS', '104235700', 'store_num', 1),\n",
       " (85, ' NNT FAMOUSFOOTWEAR 132427', '132427', 'store_num', 1),\n",
       " (86, ' STARBUCKS STORE 11966', '11966', 'store_num', 1),\n",
       " (87, ' SUBWAY 3317963', '3317963', 'store_num', 1),\n",
       " (88, ' NST BEST BUY 401 948', '401', 'store_num', 1),\n",
       " (89, ' NST BEST BUY 51 672842', '51', 'store_num', 1),\n",
       " (90, ' PAPA MURPHY S UT044 OLO', 'UT044', 'store_num', 1),\n",
       " (91, 'BP 1003300 DANADA SQUS', '1003300', 'store_num', 1),\n",
       " (92, ' SUBWAY 32128', '32128', 'store_num', 1),\n",
       " (93, ' TEXACO 303733', '303733', 'store_num', 1),\n",
       " (94, ' THE BUCKLE 513', '513', 'store_num', 1),\n",
       " (95, ' MCDONALD S F2151', 'F2151', 'store_num', 1),\n",
       " (96, ' NST BEST BUY 1403 332411', '1403', 'store_num', 1),\n",
       " (97, ' CVS PHARMACY 6689', '6689', 'store_num', 1),\n",
       " (98, ' BANANA REPUBLIC 8109', '8109', 'store_num', 1),\n",
       " (99, ' BOSTON MARKET 443', '443', 'store_num', 1)]"
      ]
     },
     "execution_count": 36,
     "metadata": {},
     "output_type": "execute_result"
    }
   ],
   "source": [
    "inference_output"
   ]
  },
  {
   "cell_type": "markdown",
   "id": "81c3239d",
   "metadata": {},
   "source": [
    "## Failure Analysis\n",
    "\n",
    "**Let's examine the entries that our model got wrong**:"
   ]
  },
  {
   "cell_type": "code",
   "execution_count": 43,
   "id": "d5c251a0",
   "metadata": {},
   "outputs": [
    {
     "data": {
      "text/plain": [
       "[(' WINN DIXIE 2505 VALRICO FL 3454 ', '3454', 2),\n",
       " (' BP 8644346ES 30 B96', '8644346ES', 2),\n",
       " (' BP 8644346ES 30 B96', '30', 2),\n",
       " ('NNT POLO RL WRENTHA 130571 ', '130571', 1),\n",
       " (' WINN DIXIE 2454 SEFFNER FL 1033 ', '1033', 2),\n",
       " (' NNT SEARS HOMETOWN 862751', '862751', 1),\n",
       " (' NAVY EXCHANGE 50161 3', '3', 2),\n",
       " (' CASEYS GEN STORE 2597 SLOAN IA51055', 'IA51055', 2),\n",
       " (' NST BEST BUY 48 72393', '72393', 2),\n",
       " (' FOOTACTION 57331 TAMPA FL 2340 ', '2340', 2),\n",
       " (' SUBWAY 32128', '32128', 1)]"
      ]
     },
     "execution_count": 43,
     "metadata": {},
     "output_type": "execute_result"
    }
   ],
   "source": [
    "_, not_matched = score_model(inference_output, test_df, return_not_matched=True)\n",
    "\n",
    "not_matched"
   ]
  },
  {
   "cell_type": "markdown",
   "id": "5f7c6c87",
   "metadata": {},
   "source": [
    "### Take a Deep Look at Some Cases\n",
    "\n",
    "1) Case 1"
   ]
  },
  {
   "cell_type": "code",
   "execution_count": 50,
   "id": "e27a3a8f",
   "metadata": {},
   "outputs": [
    {
     "data": {
      "text/html": [
       "<div>\n",
       "<style scoped>\n",
       "    .dataframe tbody tr th:only-of-type {\n",
       "        vertical-align: middle;\n",
       "    }\n",
       "\n",
       "    .dataframe tbody tr th {\n",
       "        vertical-align: top;\n",
       "    }\n",
       "\n",
       "    .dataframe thead th {\n",
       "        text-align: right;\n",
       "    }\n",
       "</style>\n",
       "<table border=\"1\" class=\"dataframe\">\n",
       "  <thead>\n",
       "    <tr style=\"text-align: right;\">\n",
       "      <th></th>\n",
       "      <th>transaction_descriptor</th>\n",
       "      <th>store_number</th>\n",
       "      <th>dataset</th>\n",
       "    </tr>\n",
       "  </thead>\n",
       "  <tbody>\n",
       "    <tr>\n",
       "      <th>223</th>\n",
       "      <td>NNT POLO RL WRENTHA 130571</td>\n",
       "      <td>13057</td>\n",
       "      <td>test</td>\n",
       "    </tr>\n",
       "  </tbody>\n",
       "</table>\n",
       "</div>"
      ],
      "text/plain": [
       "          transaction_descriptor store_number dataset\n",
       "223  NNT POLO RL WRENTHA 130571         13057    test"
      ]
     },
     "execution_count": 50,
     "metadata": {},
     "output_type": "execute_result"
    }
   ],
   "source": [
    "test_df.loc[test_df['transaction_descriptor'] == 'NNT POLO RL WRENTHA 130571 ']"
   ]
  },
  {
   "cell_type": "markdown",
   "id": "c1b7a9c1",
   "metadata": {},
   "source": [
    "We see that this one is an unfortunate error, there is no way of knowing, without knowing the label itself beforehand, that we were not supposed to keep the 1 at the end.\n",
    "\n",
    "2) Case 2"
   ]
  },
  {
   "cell_type": "code",
   "execution_count": 51,
   "id": "ae1e4981",
   "metadata": {},
   "outputs": [
    {
     "data": {
      "text/html": [
       "<div>\n",
       "<style scoped>\n",
       "    .dataframe tbody tr th:only-of-type {\n",
       "        vertical-align: middle;\n",
       "    }\n",
       "\n",
       "    .dataframe tbody tr th {\n",
       "        vertical-align: top;\n",
       "    }\n",
       "\n",
       "    .dataframe thead th {\n",
       "        text-align: right;\n",
       "    }\n",
       "</style>\n",
       "<table border=\"1\" class=\"dataframe\">\n",
       "  <thead>\n",
       "    <tr style=\"text-align: right;\">\n",
       "      <th></th>\n",
       "      <th>transaction_descriptor</th>\n",
       "      <th>store_number</th>\n",
       "      <th>dataset</th>\n",
       "    </tr>\n",
       "  </thead>\n",
       "  <tbody>\n",
       "    <tr>\n",
       "      <th>222</th>\n",
       "      <td>BP 8644346ES 30 B96</td>\n",
       "      <td>8644346</td>\n",
       "      <td>test</td>\n",
       "    </tr>\n",
       "  </tbody>\n",
       "</table>\n",
       "</div>"
      ],
      "text/plain": [
       "    transaction_descriptor store_number dataset\n",
       "222    BP 8644346ES 30 B96      8644346    test"
      ]
     },
     "execution_count": 51,
     "metadata": {},
     "output_type": "execute_result"
    }
   ],
   "source": [
    "test_df.loc[test_df['transaction_descriptor'] == ' BP 8644346ES 30 B96']"
   ]
  },
  {
   "cell_type": "markdown",
   "id": "f567cc35",
   "metadata": {},
   "source": [
    "This is also a confusing case because there were 3 separate alphanumeric fields that could've been interpreted as a \"store number\". This is especially true since it is ambiguous as to what \"BP\" is. A lot of the other descriptors had full names, or had longer entries for the store names in the descriptors, so the model was likely able to deduce the context in those cases. \n",
    "\n",
    "3) Case 3"
   ]
  },
  {
   "cell_type": "code",
   "execution_count": 53,
   "id": "f9e0e93c",
   "metadata": {},
   "outputs": [
    {
     "data": {
      "text/html": [
       "<div>\n",
       "<style scoped>\n",
       "    .dataframe tbody tr th:only-of-type {\n",
       "        vertical-align: middle;\n",
       "    }\n",
       "\n",
       "    .dataframe tbody tr th {\n",
       "        vertical-align: top;\n",
       "    }\n",
       "\n",
       "    .dataframe thead th {\n",
       "        text-align: right;\n",
       "    }\n",
       "</style>\n",
       "<table border=\"1\" class=\"dataframe\">\n",
       "  <thead>\n",
       "    <tr style=\"text-align: right;\">\n",
       "      <th></th>\n",
       "      <th>transaction_descriptor</th>\n",
       "      <th>store_number</th>\n",
       "      <th>dataset</th>\n",
       "    </tr>\n",
       "  </thead>\n",
       "  <tbody>\n",
       "    <tr>\n",
       "      <th>231</th>\n",
       "      <td>NNT SEARS HOMETOWN 862751</td>\n",
       "      <td>8627</td>\n",
       "      <td>test</td>\n",
       "    </tr>\n",
       "  </tbody>\n",
       "</table>\n",
       "</div>"
      ],
      "text/plain": [
       "         transaction_descriptor store_number dataset\n",
       "231   NNT SEARS HOMETOWN 862751         8627    test"
      ]
     },
     "execution_count": 53,
     "metadata": {},
     "output_type": "execute_result"
    }
   ],
   "source": [
    "test_df.loc[test_df['transaction_descriptor'] == ' NNT SEARS HOMETOWN 862751']"
   ]
  },
  {
   "cell_type": "markdown",
   "id": "52f11cd9",
   "metadata": {},
   "source": [
    "We see that, just like case 1, this is just an unfortunate case of the descriptor itself being unclear. It is arguable as to whether a human, analyzing this one by one, could extract this correctly.\n",
    "\n",
    "4) Case 4"
   ]
  },
  {
   "cell_type": "code",
   "execution_count": 55,
   "id": "d6eb1610",
   "metadata": {},
   "outputs": [
    {
     "data": {
      "text/html": [
       "<div>\n",
       "<style scoped>\n",
       "    .dataframe tbody tr th:only-of-type {\n",
       "        vertical-align: middle;\n",
       "    }\n",
       "\n",
       "    .dataframe tbody tr th {\n",
       "        vertical-align: top;\n",
       "    }\n",
       "\n",
       "    .dataframe thead th {\n",
       "        text-align: right;\n",
       "    }\n",
       "</style>\n",
       "<table border=\"1\" class=\"dataframe\">\n",
       "  <thead>\n",
       "    <tr style=\"text-align: right;\">\n",
       "      <th></th>\n",
       "      <th>transaction_descriptor</th>\n",
       "      <th>store_number</th>\n",
       "      <th>dataset</th>\n",
       "    </tr>\n",
       "  </thead>\n",
       "  <tbody>\n",
       "    <tr>\n",
       "      <th>292</th>\n",
       "      <td>SUBWAY 32128</td>\n",
       "      <td>3212</td>\n",
       "      <td>test</td>\n",
       "    </tr>\n",
       "  </tbody>\n",
       "</table>\n",
       "</div>"
      ],
      "text/plain": [
       "    transaction_descriptor store_number dataset\n",
       "292           SUBWAY 32128         3212    test"
      ]
     },
     "execution_count": 55,
     "metadata": {},
     "output_type": "execute_result"
    }
   ],
   "source": [
    "test_df.loc[test_df['transaction_descriptor'] == ' SUBWAY 32128']"
   ]
  },
  {
   "cell_type": "markdown",
   "id": "0dc168b4",
   "metadata": {},
   "source": [
    "Case 4 is similar to Case 3 and 1."
   ]
  },
  {
   "cell_type": "markdown",
   "id": "19538595",
   "metadata": {},
   "source": [
    "## Conclusion\n",
    "\n",
    "In conclusion, we see that spaCy's *Embed, Encode, Attend, Predict* model is significantly better than a traditional RNN (even with the many-to-many LSTM architecture). From a blank (randomly initialized, untrained) instance, we obtained an **accuracy of 90.00%**, and a **precision of 89.72%**! Although these results are not optimal (we would like to see closer to 95%-98% if possible), we also have to note that our training, validation, testing samples were limited in both size (*100 samples each*), and scope of edge cases, for our model to learn sufficiently. \n",
    "\n",
    "Furthermore, in our analysis of the failed cases, we see that they were instances that would have been extremely difficult to predict **without having apriori knowledge** about the true store numbers (look at *Case 1, 3, 4 in our failure analysis*). Another advantage of using this model is that, in the event that the model is unsure of the label, it actually predicted two labels. This is advantageous to us because in many machine learning workflows/cycles, it is still necessary to do further post-processing of model outputs, and if model actually has multiple options for guesses, we can always choose the correct ones, or simply filter out the incorrect ones with additional models or other criteria based on context."
   ]
  }
 ],
 "metadata": {
  "kernelspec": {
   "display_name": "blank_env",
   "language": "python",
   "name": "blank_env"
  },
  "language_info": {
   "codemirror_mode": {
    "name": "ipython",
    "version": 3
   },
   "file_extension": ".py",
   "mimetype": "text/x-python",
   "name": "python",
   "nbconvert_exporter": "python",
   "pygments_lexer": "ipython3",
   "version": "3.9.7"
  }
 },
 "nbformat": 4,
 "nbformat_minor": 5
}
